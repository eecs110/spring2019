{
 "cells": [
  {
   "cell_type": "markdown",
   "metadata": {},
   "source": [
    "## Pandas Cheatsheet\n",
    "* Jupyter Notebooks provide a way of organizing data-related calculations in order to help your user understand *how you arrived at a particular chart or calculation using Python.\n",
    "* Pandas is a library that helps you work with and visualize data using Python. \n",
    "\n",
    "Here are some commands that might be useful for you as you work with the Pandas library:\n",
    "\n",
    "| Command | Job |\n",
    "|--|--|\n",
    "|.read_csv| load dataframe from a CSV file |\n",
    "|.head(n)|limits the number of rows to n |\n",
    "|.set_index|sets the primary key of the table|\n",
    "|.join|merges two tables together based on their key |\n",
    "|dataframe['a', 'b']| only show columns a and b from the dataframe|\n",
    "|.groupby(['a', 'b'])| performs an aggregate calculation (count, min, max) by columns a and b|\n",
    "|.sort_values|sorts dataframe by the columns specified|\n",
    "| dataframe.column_name | extracts 1 column from dataframe|\n",
    "|dataframe.plot.barh()| plots the dataframe as a bar chart|\n"
   ]
  },
  {
   "cell_type": "code",
   "execution_count": null,
   "metadata": {},
   "outputs": [],
   "source": [
    "import pandas as pd\n",
    "%matplotlib inline"
   ]
  },
  {
   "cell_type": "markdown",
   "metadata": {},
   "source": [
    "### 1. read_csv\n",
    "For creating a new dataframe from a CSV file"
   ]
  },
  {
   "cell_type": "code",
   "execution_count": null,
   "metadata": {},
   "outputs": [],
   "source": [
    "# Load Dataframes from disk:\n",
    "violations = pd.read_csv(\"../data/Food_Establishment_Violations.csv\", encoding=\"latin\")\n"
   ]
  },
  {
   "cell_type": "markdown",
   "metadata": {},
   "source": [
    "### 2. head\n",
    "For limiting the number of rows"
   ]
  },
  {
   "cell_type": "code",
   "execution_count": null,
   "metadata": {},
   "outputs": [],
   "source": [
    "#preview the violations table:\n",
    "violations.head(3)"
   ]
  },
  {
   "cell_type": "markdown",
   "metadata": {},
   "source": [
    "### 3. column indexing (subsetting)\n",
    "Sometimes you only want to look at a few of the columns. To only view a few columns in Pandas, list them inside of brackets (as seen below).  This makes a copy of the dataframe that only includes the columns you selected."
   ]
  },
  {
   "cell_type": "code",
   "execution_count": null,
   "metadata": {},
   "outputs": [],
   "source": [
    "# show the number of violations by restaurant:\n",
    "\n",
    "counts_table = violations[[\"business_license\", \"violation\"]]\n",
    "counts_table.head(3)"
   ]
  },
  {
   "cell_type": "markdown",
   "metadata": {},
   "source": [
    "### 4. groupby + aggregation method\n",
    "Sometimes you want to get a count of things by a particular attribute. For example:\n",
    "\n",
    "> How many violations does each restaurant have?\n",
    "\n",
    "The code below performs the count operation for every distint business license using the groupby method:"
   ]
  },
  {
   "cell_type": "code",
   "execution_count": null,
   "metadata": {},
   "outputs": [],
   "source": [
    "counts_table = counts_table.groupby([\"business_license\"]).count()\n",
    "counts_table.head(5)"
   ]
  },
  {
   "cell_type": "markdown",
   "metadata": {},
   "source": [
    "### 5. sort_values\n",
    "Sords the table according to the column specified in either ascending or descending order:"
   ]
  },
  {
   "cell_type": "code",
   "execution_count": null,
   "metadata": {},
   "outputs": [],
   "source": [
    "counts_table = counts_table.sort_values('violation', ascending=False)\n",
    "counts_table.head(10)"
   ]
  },
  {
   "cell_type": "markdown",
   "metadata": {},
   "source": [
    "### 6. plot\n",
    "Create a chart of your findings using Matplotlib."
   ]
  },
  {
   "cell_type": "code",
   "execution_count": null,
   "metadata": {
    "scrolled": true
   },
   "outputs": [],
   "source": [
    "# get top 15:\n",
    "violation_frequencies = counts_table.violation.head(15)\n",
    "\n",
    "#reverse ordering:\n",
    "violation_frequencies = violation_frequencies.iloc[::-1]\n",
    "\n",
    "# define the plot parameters (color, etc.)\n",
    "violation_frequencies.plot(kind='barh', figsize=(8, 8), color='#86bf91', zorder=2, width=0.65)\n",
    "\n",
    "# draw the horizontal bar chart:\n",
    "violation_frequencies.plot.barh()\n"
   ]
  },
  {
   "cell_type": "markdown",
   "metadata": {},
   "source": [
    "### 7. filtering\n",
    "To filter the table, define a rule, and then index the table according to the rule (kind of a weird syntax)."
   ]
  },
  {
   "cell_type": "code",
   "execution_count": null,
   "metadata": {},
   "outputs": [],
   "source": [
    "# show the most problematic restaurant / food establishment (09FOOD-0231, 09FOOD-0117, ...):\n",
    "\n",
    "business_license = input('which food establishment do you want to know about? ')\n",
    "\n",
    "# 1. create a filter rule\n",
    "rule = violations['business_license'] == business_license\n",
    "\n",
    "# 2. apply the filter rule as an index to the dataframe\n",
    "violations[rule]"
   ]
  },
  {
   "cell_type": "markdown",
   "metadata": {},
   "source": [
    "## But which restaurants are these?\n",
    "We have their business license information, but can we figure out who they are?"
   ]
  },
  {
   "cell_type": "code",
   "execution_count": null,
   "metadata": {},
   "outputs": [],
   "source": [
    "# load businesses data:\n",
    "businesses = pd.read_csv(\"../data/Food_Establishment_Businesses.csv\", encoding=\"latin\")\n",
    "businesses.head(3)"
   ]
  },
  {
   "cell_type": "markdown",
   "metadata": {},
   "source": [
    "### 8. joining\n",
    "Joining two tables on a column combines the two tables together based on their business license (in this case):"
   ]
  },
  {
   "cell_type": "code",
   "execution_count": null,
   "metadata": {},
   "outputs": [],
   "source": [
    "# let's merge the two tables together:\n",
    "merged_table = violations.set_index('business_license').join(businesses.set_index('business_license'))\n",
    "merged_table = merged_table.reindex(columns=[\n",
    "    'violation_date', 'violation', 'inspector_comments', 'business_name', \n",
    "    'address', 'city', 'state', 'zip_code', 'location', 'last_inspection_date'\n",
    "])\n",
    "merged_table.head(3)"
   ]
  },
  {
   "cell_type": "code",
   "execution_count": null,
   "metadata": {},
   "outputs": [],
   "source": [
    "# perform the same calculations as before, but on the new table:\n",
    "# show the number of violations by restaurant:\n",
    "merged_table_simplified = merged_table[[\"business_name\", \"violation\"]]\n",
    "counts_table = merged_table_simplified.groupby([\"business_name\", \"business_license\"]).count()\n",
    "counts_table = counts_table.sort_values('violation', ascending=False)\n",
    "\n",
    "counts_table.head(3)"
   ]
  },
  {
   "cell_type": "markdown",
   "metadata": {},
   "source": [
    "### Plot the new chart with the business names"
   ]
  },
  {
   "cell_type": "code",
   "execution_count": null,
   "metadata": {},
   "outputs": [],
   "source": [
    "violation_frequencies = counts_table.violation.head(50)\n",
    "\n",
    "#reverse ordering:\n",
    "violation_frequencies = violation_frequencies.iloc[::-1]\n",
    "\n",
    "violation_frequencies.plot(kind='barh', figsize=(8, 30), width=0.65)\n",
    "violation_frequencies.plot.barh()"
   ]
  },
  {
   "cell_type": "code",
   "execution_count": null,
   "metadata": {},
   "outputs": [],
   "source": []
  }
 ],
 "metadata": {
  "kernelspec": {
   "display_name": "Python 3",
   "language": "python",
   "name": "python3"
  },
  "language_info": {
   "codemirror_mode": {
    "name": "ipython",
    "version": 3
   },
   "file_extension": ".py",
   "mimetype": "text/x-python",
   "name": "python",
   "nbconvert_exporter": "python",
   "pygments_lexer": "ipython3",
   "version": "3.7.0"
  }
 },
 "nbformat": 4,
 "nbformat_minor": 2
}
