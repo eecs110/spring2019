{
 "cells": [
  {
   "cell_type": "code",
   "execution_count": null,
   "metadata": {},
   "outputs": [],
   "source": [
    "from urllib.request import urlopen\n",
    "import pprint\n",
    "import json\n",
    "import pandas as pd"
   ]
  },
  {
   "cell_type": "markdown",
   "metadata": {},
   "source": [
    "## 1. Go and get the Google Homepage"
   ]
  },
  {
   "cell_type": "code",
   "execution_count": null,
   "metadata": {},
   "outputs": [],
   "source": [
    "# 1. get it from the internet\n",
    "response = urlopen('https://www.google.com')\n",
    "file_data = response.read().decode('utf-8', 'ignore')\n",
    "\n",
    "# 2. print it to the screen\n",
    "# print(file_data)\n",
    "\n",
    "# 3. write it to a file\n",
    "f = open('results/google_homepage.html', 'w')\n",
    "f.write(file_data)\n",
    "f.close()\n",
    "print('Web page written to results/google_homepage.html. Go take a look!')"
   ]
  },
  {
   "cell_type": "markdown",
   "metadata": {},
   "source": [
    "## 2. Go and get a cat photo"
   ]
  },
  {
   "cell_type": "code",
   "execution_count": null,
   "metadata": {},
   "outputs": [],
   "source": [
    "# 1. get it from the internet\n",
    "response = urlopen('https://kittenrescue.org/wp-content/uploads/2017/03/KittenRescue_KittenCareHandbook.jpg')\n",
    "file_data = response.read()\n",
    "\n",
    "# 2. print it to the screen\n",
    "# print(file_data)\n",
    "\n",
    "# 3. write it to a file\n",
    "f = open('results/kitten.jpg', 'wb')  #note the 'wb' flag (b is for binary)\n",
    "f.write(file_data)\n",
    "f.close()\n",
    "print('Image written to results/kitten.jpg. Go take a look!')"
   ]
  },
  {
   "cell_type": "markdown",
   "metadata": {},
   "source": [
    "## 3. Go and get some data from Divvy Bikes"
   ]
  },
  {
   "cell_type": "code",
   "execution_count": null,
   "metadata": {},
   "outputs": [],
   "source": [
    "# 1. get it from the internet\n",
    "response = urlopen('https://feeds.divvybikes.com/stations/stations.json')\n",
    "file_data = response.read().decode('utf-8', 'ignore')\n",
    "\n",
    "# 2. print it to the screen\n",
    "# pprint.pprint(file_data)\n",
    "\n",
    "# 3. write it to a file\n",
    "f = open('results/divvy_stations.json', 'w')\n",
    "f.write(file_data)\n",
    "f.close()\n",
    "print('Web page written to results/divvy_stations.json. Go take a look!')"
   ]
  },
  {
   "cell_type": "markdown",
   "metadata": {},
   "source": [
    "## 4. Go and get some data from Spotify"
   ]
  },
  {
   "cell_type": "code",
   "execution_count": null,
   "metadata": {},
   "outputs": [],
   "source": [
    "from apis import spotify\n",
    "import urllib.request\n",
    "from urllib.request import urlopen\n",
    "import json\n",
    "\n",
    "search_term = input('Which artist are you interested in? ')\n",
    "\n",
    "url = 'https://api.spotify.com/v1/search?q=' + search_term.replace(' ', '+') + '&type=artist'\n",
    "\n",
    "# retrieves data from any Spotify endpoint:\n",
    "request = urllib.request.Request(url, None, {\n",
    "    'Authorization': 'Bearer ' + spotify.get_token()\n",
    "})\n",
    "response = urllib.request.urlopen(request)\n",
    "data = response.read().decode()\n",
    "\n",
    "# 2. print it to the screen\n",
    "# json.loads(data)\n",
    "\n",
    "# 3. write it to a file\n",
    "f = open('results/' + search_term.replace(' ', '_') + '.json', 'w')  #note the 'wb' flag (b is for binary)\n",
    "f.write(data)\n",
    "f.close()\n",
    "\n",
    "\n",
    "print('Spotify data written to results/' + search_term.replace(' ', '_') + '.json. Go take a look!')"
   ]
  },
  {
   "cell_type": "code",
   "execution_count": null,
   "metadata": {},
   "outputs": [],
   "source": []
  }
 ],
 "metadata": {
  "kernelspec": {
   "display_name": "Python 3",
   "language": "python",
   "name": "python3"
  },
  "language_info": {
   "codemirror_mode": {
    "name": "ipython",
    "version": 3
   },
   "file_extension": ".py",
   "mimetype": "text/x-python",
   "name": "python",
   "nbconvert_exporter": "python",
   "pygments_lexer": "ipython3",
   "version": "3.7.0"
  }
 },
 "nbformat": 4,
 "nbformat_minor": 2
}
