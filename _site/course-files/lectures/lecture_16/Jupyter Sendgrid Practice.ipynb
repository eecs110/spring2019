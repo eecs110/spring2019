{
 "cells": [
  {
   "cell_type": "markdown",
   "metadata": {},
   "source": [
    "# Exercise 2: In Class Activity\n",
    "1. Figure out how to send an email\n",
    "2. Figure out how to send an email with an image in it. Here is the HTML for an image (use whatever image link you want):\n",
    "\n",
    "```html\n",
    "<img src=\"https://i.scdn.co/image/eb2ed0c17353cb509c2a57265fe90dfc7c7fa592\">\n",
    "```"
   ]
  },
  {
   "cell_type": "code",
   "execution_count": 1,
   "metadata": {},
   "outputs": [],
   "source": [
    "from apis import sendgrid"
   ]
  },
  {
   "cell_type": "code",
   "execution_count": 2,
   "metadata": {},
   "outputs": [
    {
     "name": "stdout",
     "output_type": "stream",
     "text": [
      "Help on module apis.sendgrid in apis:\n",
      "\n",
      "NAME\n",
      "    apis.sendgrid\n",
      "\n",
      "FUNCTIONS\n",
      "    send_mail(from_email: str, to_emails: tuple, subject: str, html_content: str)\n",
      "\n",
      "FILE\n",
      "    /Users/vanwars/northwestern/cs110/spring2019/course-website/course-files/lectures/lecture_16/apis/sendgrid.py\n",
      "\n",
      "\n"
     ]
    }
   ],
   "source": [
    "help(sendgrid)"
   ]
  }
 ],
 "metadata": {
  "kernelspec": {
   "display_name": "Python 3",
   "language": "python",
   "name": "python3"
  },
  "language_info": {
   "codemirror_mode": {
    "name": "ipython",
    "version": 3
   },
   "file_extension": ".py",
   "mimetype": "text/x-python",
   "name": "python",
   "nbconvert_exporter": "python",
   "pygments_lexer": "ipython3",
   "version": "3.7.0"
  }
 },
 "nbformat": 4,
 "nbformat_minor": 2
}
