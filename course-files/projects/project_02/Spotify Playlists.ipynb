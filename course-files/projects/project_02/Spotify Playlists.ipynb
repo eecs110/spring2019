{
 "cells": [
  {
   "cell_type": "markdown",
   "metadata": {},
   "source": [
    "# Spotify: Working with Playlists"
   ]
  },
  {
   "cell_type": "code",
   "execution_count": 1,
   "metadata": {},
   "outputs": [
    {
     "data": {
      "text/html": [
       "\n",
       "        <style>\n",
       "            .rendered_html img { \n",
       "                display: inline-block; \n",
       "                vertical-align: baseline;\n",
       "                max-width: 200px !important;\n",
       "                margin-right: 20px !important;\n",
       "            }\n",
       "            .rendered_html td, .rendered_html th { text-align: left !important; }\n",
       "        </style>\n",
       "        "
      ],
      "text/plain": [
       "<IPython.core.display.HTML object>"
      ]
     },
     "execution_count": 1,
     "metadata": {},
     "output_type": "execute_result"
    }
   ],
   "source": [
    "# import dependencies:\n",
    "from apis import spotify\n",
    "from pprint import pprint\n",
    "import pandas as pd\n",
    "from IPython.display import HTML\n",
    "\n",
    "from IPython.core.display import HTML\n",
    "\n",
    "# some formatting:\n",
    "HTML(spotify.get_jupyter_styling())"
   ]
  },
  {
   "cell_type": "code",
   "execution_count": 2,
   "metadata": {},
   "outputs": [],
   "source": [
    "# Let's understand our options by using the help function:\n",
    "# help(spotify)"
   ]
  },
  {
   "cell_type": "markdown",
   "metadata": {},
   "source": [
    "## 1. Get playlists by search term"
   ]
  },
  {
   "cell_type": "code",
   "execution_count": 3,
   "metadata": {},
   "outputs": [
    {
     "data": {
      "text/html": [
       "<div>\n",
       "<style scoped>\n",
       "    .dataframe tbody tr th:only-of-type {\n",
       "        vertical-align: middle;\n",
       "    }\n",
       "\n",
       "    .dataframe tbody tr th {\n",
       "        vertical-align: top;\n",
       "    }\n",
       "\n",
       "    .dataframe thead th {\n",
       "        text-align: right;\n",
       "    }\n",
       "</style>\n",
       "<table border=\"1\" class=\"dataframe\">\n",
       "  <thead>\n",
       "    <tr style=\"text-align: right;\">\n",
       "      <th></th>\n",
       "      <th>id</th>\n",
       "      <th>name</th>\n",
       "      <th>owner_display_name</th>\n",
       "      <th>owner_id</th>\n",
       "    </tr>\n",
       "    <tr>\n",
       "      <th>num</th>\n",
       "      <th></th>\n",
       "      <th></th>\n",
       "      <th></th>\n",
       "      <th></th>\n",
       "    </tr>\n",
       "  </thead>\n",
       "  <tbody>\n",
       "    <tr>\n",
       "      <th>1</th>\n",
       "      <td>37i9dQZF1DX5xie6IyJZjg</td>\n",
       "      <td>This Is: Cut Copy</td>\n",
       "      <td>Spotify</td>\n",
       "      <td>spotify</td>\n",
       "    </tr>\n",
       "    <tr>\n",
       "      <th>2</th>\n",
       "      <td>5Ic1drhGnSTeAcy2TbMd25</td>\n",
       "      <td>Cut Copy Radio</td>\n",
       "      <td>Meizi Mao</td>\n",
       "      <td>meow22</td>\n",
       "    </tr>\n",
       "    <tr>\n",
       "      <th>3</th>\n",
       "      <td>5Ct9qfDIQfjLVoVq3c9LBp</td>\n",
       "      <td>Cut Copy Greatest Hits (Haiku From Zero Out Now)</td>\n",
       "      <td>cutcopyband</td>\n",
       "      <td>cutcopyband</td>\n",
       "    </tr>\n",
       "    <tr>\n",
       "      <th>4</th>\n",
       "      <td>0OQfoFvigmVpXthFRwcxCa</td>\n",
       "      <td>Hipster Pop</td>\n",
       "      <td>samfreche</td>\n",
       "      <td>samfreche</td>\n",
       "    </tr>\n",
       "    <tr>\n",
       "      <th>5</th>\n",
       "      <td>4VR49RWW1TahUACYOVGujm</td>\n",
       "      <td>Cut Copy/Presets/Hot Chip/Friendly Fires/Pinba...</td>\n",
       "      <td>Jonah-kai Hancock</td>\n",
       "      <td>122778472</td>\n",
       "    </tr>\n",
       "    <tr>\n",
       "      <th>6</th>\n",
       "      <td>3nQXBhD9cdBOhED2RW5WmX</td>\n",
       "      <td>Cut Copy Fabriclive.29</td>\n",
       "      <td>Bruno Genovez</td>\n",
       "      <td>br.genovez</td>\n",
       "    </tr>\n",
       "    <tr>\n",
       "      <th>7</th>\n",
       "      <td>7aK2Ap6P3HRxHkC1kZvtGD</td>\n",
       "      <td>Cut Copy</td>\n",
       "      <td>Don Kasho</td>\n",
       "      <td>kasho1234567</td>\n",
       "    </tr>\n",
       "    <tr>\n",
       "      <th>8</th>\n",
       "      <td>6BT1UsRWnvnj8g7iV4EeFd</td>\n",
       "      <td>KB's Cut Copy</td>\n",
       "      <td>xtinabeckway</td>\n",
       "      <td>xtinabeckway</td>\n",
       "    </tr>\n",
       "  </tbody>\n",
       "</table>\n",
       "</div>"
      ],
      "text/plain": [
       "                         id  \\\n",
       "num                           \n",
       "1    37i9dQZF1DX5xie6IyJZjg   \n",
       "2    5Ic1drhGnSTeAcy2TbMd25   \n",
       "3    5Ct9qfDIQfjLVoVq3c9LBp   \n",
       "4    0OQfoFvigmVpXthFRwcxCa   \n",
       "5    4VR49RWW1TahUACYOVGujm   \n",
       "6    3nQXBhD9cdBOhED2RW5WmX   \n",
       "7    7aK2Ap6P3HRxHkC1kZvtGD   \n",
       "8    6BT1UsRWnvnj8g7iV4EeFd   \n",
       "\n",
       "                                                  name owner_display_name  \\\n",
       "num                                                                         \n",
       "1                                    This Is: Cut Copy            Spotify   \n",
       "2                                       Cut Copy Radio          Meizi Mao   \n",
       "3     Cut Copy Greatest Hits (Haiku From Zero Out Now)        cutcopyband   \n",
       "4                                          Hipster Pop          samfreche   \n",
       "5    Cut Copy/Presets/Hot Chip/Friendly Fires/Pinba...  Jonah-kai Hancock   \n",
       "6                               Cut Copy Fabriclive.29      Bruno Genovez   \n",
       "7                                             Cut Copy          Don Kasho   \n",
       "8                                        KB's Cut Copy       xtinabeckway   \n",
       "\n",
       "         owner_id  \n",
       "num                \n",
       "1         spotify  \n",
       "2          meow22  \n",
       "3     cutcopyband  \n",
       "4       samfreche  \n",
       "5       122778472  \n",
       "6      br.genovez  \n",
       "7    kasho1234567  \n",
       "8    xtinabeckway  "
      ]
     },
     "execution_count": 3,
     "metadata": {},
     "output_type": "execute_result"
    }
   ],
   "source": [
    "# search_term = input('Which artist do you want to listen to? ')\n",
    "search_term = 'cut copy'\n",
    "playlists = spotify.get_playlists(search_term)\n",
    "\n",
    "# 1. Uncomment below to see the returned data:\n",
    "# pprint(playlists)\n",
    "\n",
    "# 2. pandas doesn't gracefully handle heirarchal data (uncomment below to see what I mean)\n",
    "# df = pd.DataFrame(tracks)\n",
    "# df.head(3)\n",
    "\n",
    "# 3. Format data and display in Pandas:\n",
    "playlists = spotify.flatten_for_pandas(playlists)\n",
    "df = pd.DataFrame(playlists).set_index('num')\n",
    "df.head(8)"
   ]
  },
  {
   "cell_type": "markdown",
   "metadata": {},
   "source": [
    "## 2. Ask the user which artist they'd like to listen to"
   ]
  },
  {
   "cell_type": "code",
   "execution_count": 5,
   "metadata": {},
   "outputs": [
    {
     "data": {
      "text/html": [
       "<div>\n",
       "<style scoped>\n",
       "    .dataframe tbody tr th:only-of-type {\n",
       "        vertical-align: middle;\n",
       "    }\n",
       "\n",
       "    .dataframe tbody tr th {\n",
       "        vertical-align: top;\n",
       "    }\n",
       "\n",
       "    .dataframe thead th {\n",
       "        text-align: right;\n",
       "    }\n",
       "</style>\n",
       "<table border=\"1\" class=\"dataframe\">\n",
       "  <thead>\n",
       "    <tr style=\"text-align: right;\">\n",
       "      <th></th>\n",
       "      <th>artist_name</th>\n",
       "      <th>name</th>\n",
       "      <th>album_name</th>\n",
       "      <th>album_image_url</th>\n",
       "    </tr>\n",
       "    <tr>\n",
       "      <th>num</th>\n",
       "      <th></th>\n",
       "      <th></th>\n",
       "      <th></th>\n",
       "      <th></th>\n",
       "    </tr>\n",
       "  </thead>\n",
       "  <tbody>\n",
       "    <tr>\n",
       "      <th>1</th>\n",
       "      <td>Cut Copy</td>\n",
       "      <td>Hearts On Fire</td>\n",
       "      <td>In Ghost Colours</td>\n",
       "      <td>https://i.scdn.co/image/0d1639fa2b10454ce03d28...</td>\n",
       "    </tr>\n",
       "    <tr>\n",
       "      <th>2</th>\n",
       "      <td>Chairlift</td>\n",
       "      <td>Polymorphing</td>\n",
       "      <td>Moth</td>\n",
       "      <td>https://i.scdn.co/image/dbf3e22888de3a57d8e44c...</td>\n",
       "    </tr>\n",
       "    <tr>\n",
       "      <th>3</th>\n",
       "      <td>LCD Soundsystem</td>\n",
       "      <td>Dance Yrself Clean</td>\n",
       "      <td>This Is Happening</td>\n",
       "      <td>https://i.scdn.co/image/7c2ddcaf6e3aacc89a6470...</td>\n",
       "    </tr>\n",
       "    <tr>\n",
       "      <th>4</th>\n",
       "      <td>STRFKR</td>\n",
       "      <td>Basically</td>\n",
       "      <td>Vault Vol. 1</td>\n",
       "      <td>https://i.scdn.co/image/334cfc032781191f11313f...</td>\n",
       "    </tr>\n",
       "    <tr>\n",
       "      <th>5</th>\n",
       "      <td>Cut Copy</td>\n",
       "      <td>Lights &amp; Music</td>\n",
       "      <td>In Ghost Colours</td>\n",
       "      <td>https://i.scdn.co/image/0d1639fa2b10454ce03d28...</td>\n",
       "    </tr>\n",
       "  </tbody>\n",
       "</table>\n",
       "</div>"
      ],
      "text/plain": [
       "         artist_name                name         album_name  \\\n",
       "num                                                           \n",
       "1           Cut Copy      Hearts On Fire   In Ghost Colours   \n",
       "2          Chairlift        Polymorphing               Moth   \n",
       "3    LCD Soundsystem  Dance Yrself Clean  This Is Happening   \n",
       "4             STRFKR           Basically       Vault Vol. 1   \n",
       "5           Cut Copy      Lights & Music   In Ghost Colours   \n",
       "\n",
       "                                       album_image_url  \n",
       "num                                                     \n",
       "1    https://i.scdn.co/image/0d1639fa2b10454ce03d28...  \n",
       "2    https://i.scdn.co/image/dbf3e22888de3a57d8e44c...  \n",
       "3    https://i.scdn.co/image/7c2ddcaf6e3aacc89a6470...  \n",
       "4    https://i.scdn.co/image/334cfc032781191f11313f...  \n",
       "5    https://i.scdn.co/image/0d1639fa2b10454ce03d28...  "
      ]
     },
     "execution_count": 5,
     "metadata": {},
     "output_type": "execute_result"
    }
   ],
   "source": [
    "# artist_num = input('What artist would you like to listen to (1-10)? ')\n",
    "playlist_num = 2\n",
    "playlist_index = int(playlist_num) - 1\n",
    "selected_playlist = playlists[playlist_index]\n",
    "\n",
    "tracks = spotify.get_tracks_by_playlist(selected_playlist['id'], simplify=True)\n",
    "# pprint(tracks)\n",
    "tracks = spotify.flatten_for_pandas(tracks)\n",
    "df_tracks = pd.DataFrame(tracks).set_index('num')\n",
    "df_tracks[['artist_name', 'name', 'album_name', 'album_image_url']].head(5)"
   ]
  },
  {
   "cell_type": "markdown",
   "metadata": {},
   "source": [
    "## 3. Listen to playlist"
   ]
  },
  {
   "cell_type": "code",
   "execution_count": 6,
   "metadata": {
    "scrolled": true
   },
   "outputs": [
    {
     "data": {
      "text/html": [
       "\n",
       "    <iframe src=\"https://open.spotify.com/embed/playlist/5Ic1drhGnSTeAcy2TbMd25\" \n",
       "        width=\"400\" height=\"280\" frameborder=\"0\" allowtransparency=\"true\" \n",
       "        allow=\"encrypted-media\">\n",
       "    </iframe>"
      ],
      "text/plain": [
       "<IPython.core.display.HTML object>"
      ]
     },
     "metadata": {},
     "output_type": "display_data"
    }
   ],
   "source": [
    "\n",
    "playlist_player = spotify.get_playlist_player_html(selected_playlist['id'])\n",
    "# print('This is what the HTML embed code looks like:\\n', track_player)\n",
    "\n",
    "display(HTML(playlist_player))"
   ]
  },
  {
   "cell_type": "markdown",
   "metadata": {},
   "source": [
    "## 4. Get other playlists from this user"
   ]
  },
  {
   "cell_type": "code",
   "execution_count": 7,
   "metadata": {},
   "outputs": [
    {
     "name": "stdout",
     "output_type": "stream",
     "text": [
      "Getting meow22's playlists...\n"
     ]
    },
    {
     "data": {
      "text/html": [
       "<div>\n",
       "<style scoped>\n",
       "    .dataframe tbody tr th:only-of-type {\n",
       "        vertical-align: middle;\n",
       "    }\n",
       "\n",
       "    .dataframe tbody tr th {\n",
       "        vertical-align: top;\n",
       "    }\n",
       "\n",
       "    .dataframe thead th {\n",
       "        text-align: right;\n",
       "    }\n",
       "</style>\n",
       "<table border=\"1\" class=\"dataframe\">\n",
       "  <thead>\n",
       "    <tr style=\"text-align: right;\">\n",
       "      <th></th>\n",
       "      <th>id</th>\n",
       "      <th>name</th>\n",
       "      <th>num</th>\n",
       "      <th>owner_display_name</th>\n",
       "      <th>owner_id</th>\n",
       "    </tr>\n",
       "  </thead>\n",
       "  <tbody>\n",
       "    <tr>\n",
       "      <th>0</th>\n",
       "      <td>1PN7VYg4y1xemsGX5CQ3of</td>\n",
       "      <td>2019</td>\n",
       "      <td>1</td>\n",
       "      <td>Meizi Mao</td>\n",
       "      <td>meow22</td>\n",
       "    </tr>\n",
       "    <tr>\n",
       "      <th>1</th>\n",
       "      <td>7hRZaowv84fHssdZhAqIns</td>\n",
       "      <td>White T Day</td>\n",
       "      <td>2</td>\n",
       "      <td>Meizi Mao</td>\n",
       "      <td>meow22</td>\n",
       "    </tr>\n",
       "    <tr>\n",
       "      <th>2</th>\n",
       "      <td>5zHK5Va6DmILYAk6T7Ugxz</td>\n",
       "      <td>2018</td>\n",
       "      <td>3</td>\n",
       "      <td>Meizi Mao</td>\n",
       "      <td>meow22</td>\n",
       "    </tr>\n",
       "    <tr>\n",
       "      <th>3</th>\n",
       "      <td>2uhAZILXSEM3OyqCkvdUm5</td>\n",
       "      <td>My Shazam Tracks</td>\n",
       "      <td>4</td>\n",
       "      <td>Meizi Mao</td>\n",
       "      <td>meow22</td>\n",
       "    </tr>\n",
       "    <tr>\n",
       "      <th>4</th>\n",
       "      <td>1mRiNsoXPzJRbM967qh8Hv</td>\n",
       "      <td>17 Autumn</td>\n",
       "      <td>5</td>\n",
       "      <td>Meizi Mao</td>\n",
       "      <td>meow22</td>\n",
       "    </tr>\n",
       "    <tr>\n",
       "      <th>5</th>\n",
       "      <td>6XbnaKMnWNS2fBj1ryEHkq</td>\n",
       "      <td>Comedy</td>\n",
       "      <td>6</td>\n",
       "      <td>Meizi Mao</td>\n",
       "      <td>meow22</td>\n",
       "    </tr>\n",
       "    <tr>\n",
       "      <th>6</th>\n",
       "      <td>5Ic1drhGnSTeAcy2TbMd25</td>\n",
       "      <td>Cut Copy Radio</td>\n",
       "      <td>7</td>\n",
       "      <td>Meizi Mao</td>\n",
       "      <td>meow22</td>\n",
       "    </tr>\n",
       "    <tr>\n",
       "      <th>7</th>\n",
       "      <td>0m6rj5a3MRlgftJfTbhyx5</td>\n",
       "      <td>Otis Redding Radio</td>\n",
       "      <td>8</td>\n",
       "      <td>Meizi Mao</td>\n",
       "      <td>meow22</td>\n",
       "    </tr>\n",
       "  </tbody>\n",
       "</table>\n",
       "</div>"
      ],
      "text/plain": [
       "                       id                name  num owner_display_name owner_id\n",
       "0  1PN7VYg4y1xemsGX5CQ3of                2019    1          Meizi Mao   meow22\n",
       "1  7hRZaowv84fHssdZhAqIns         White T Day    2          Meizi Mao   meow22\n",
       "2  5zHK5Va6DmILYAk6T7Ugxz                2018    3          Meizi Mao   meow22\n",
       "3  2uhAZILXSEM3OyqCkvdUm5    My Shazam Tracks    4          Meizi Mao   meow22\n",
       "4  1mRiNsoXPzJRbM967qh8Hv           17 Autumn    5          Meizi Mao   meow22\n",
       "5  6XbnaKMnWNS2fBj1ryEHkq              Comedy    6          Meizi Mao   meow22\n",
       "6  5Ic1drhGnSTeAcy2TbMd25      Cut Copy Radio    7          Meizi Mao   meow22\n",
       "7  0m6rj5a3MRlgftJfTbhyx5  Otis Redding Radio    8          Meizi Mao   meow22"
      ]
     },
     "execution_count": 7,
     "metadata": {},
     "output_type": "execute_result"
    }
   ],
   "source": [
    "user_id = selected_playlist['owner_id']\n",
    "\n",
    "print('Getting {user_id}\\'s playlists...'.format(user_id=user_id))\n",
    "playlists = spotify.get_playlists_by_user(user_id)\n",
    "playlists = spotify.flatten_for_pandas(playlists)\n",
    "df = pd.DataFrame(playlists)\n",
    "df.head(8)"
   ]
  }
 ],
 "metadata": {
  "kernelspec": {
   "display_name": "Python 3",
   "language": "python",
   "name": "python3"
  },
  "language_info": {
   "codemirror_mode": {
    "name": "ipython",
    "version": 3
   },
   "file_extension": ".py",
   "mimetype": "text/x-python",
   "name": "python",
   "nbconvert_exporter": "python",
   "pygments_lexer": "ipython3",
   "version": "3.7.0"
  }
 },
 "nbformat": 4,
 "nbformat_minor": 2
}
