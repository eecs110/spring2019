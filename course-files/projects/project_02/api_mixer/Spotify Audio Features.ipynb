{
 "cells": [
  {
   "cell_type": "markdown",
   "metadata": {},
   "source": [
    "# Spotify: Working with Audio Analysis"
   ]
  },
  {
   "cell_type": "code",
   "execution_count": 9,
   "metadata": {},
   "outputs": [
    {
     "data": {
      "text/html": [
       "\n",
       "            <style>\n",
       "                .rendered_html img { \n",
       "                    display: inline-block; \n",
       "                    vertical-align: baseline;\n",
       "                    max-width: 200px !important;\n",
       "                    margin-right: 20px !important;\n",
       "                }\n",
       "                .rendered_html td, .rendered_html th { text-align: left !important; }\n",
       "            </style>\n",
       "            "
      ],
      "text/plain": [
       "<IPython.core.display.HTML object>"
      ]
     },
     "execution_count": 9,
     "metadata": {},
     "output_type": "execute_result"
    }
   ],
   "source": [
    "# import dependencies:\n",
    "from apis import spotify\n",
    "from pprint import pprint\n",
    "import pandas as pd\n",
    "from IPython.display import HTML\n",
    "\n",
    "from IPython.core.display import HTML\n",
    "\n",
    "# some formatting:\n",
    "HTML(spotify.get_jupyter_styling())"
   ]
  },
  {
   "cell_type": "code",
   "execution_count": 10,
   "metadata": {},
   "outputs": [],
   "source": [
    "# Let's understand our options by using the help function:\n",
    "# help(spotify)"
   ]
  },
  {
   "cell_type": "markdown",
   "metadata": {},
   "source": [
    "## 1. Get tracks by search term"
   ]
  },
  {
   "cell_type": "code",
   "execution_count": 11,
   "metadata": {},
   "outputs": [
    {
     "data": {
      "text/html": [
       "<div>\n",
       "<style scoped>\n",
       "    .dataframe tbody tr th:only-of-type {\n",
       "        vertical-align: middle;\n",
       "    }\n",
       "\n",
       "    .dataframe tbody tr th {\n",
       "        vertical-align: top;\n",
       "    }\n",
       "\n",
       "    .dataframe thead th {\n",
       "        text-align: right;\n",
       "    }\n",
       "</style>\n",
       "<table border=\"1\" class=\"dataframe\">\n",
       "  <thead>\n",
       "    <tr style=\"text-align: right;\">\n",
       "      <th></th>\n",
       "      <th>artist_name</th>\n",
       "      <th>name</th>\n",
       "      <th>album_name</th>\n",
       "      <th>album_image_url</th>\n",
       "    </tr>\n",
       "    <tr>\n",
       "      <th>num</th>\n",
       "      <th></th>\n",
       "      <th></th>\n",
       "      <th></th>\n",
       "      <th></th>\n",
       "    </tr>\n",
       "  </thead>\n",
       "  <tbody>\n",
       "    <tr>\n",
       "      <th>1</th>\n",
       "      <td>Frank Sinatra</td>\n",
       "      <td>Summer Wind</td>\n",
       "      <td>Strangers In The Night (Expanded Edition)</td>\n",
       "      <td>https://i.scdn.co/image/a08cbc9ad17132caec9d41...</td>\n",
       "    </tr>\n",
       "    <tr>\n",
       "      <th>2</th>\n",
       "      <td>Cut Copy</td>\n",
       "      <td>Strangers In The Wind</td>\n",
       "      <td>In Ghost Colours</td>\n",
       "      <td>https://i.scdn.co/image/0d1639fa2b10454ce03d28...</td>\n",
       "    </tr>\n",
       "    <tr>\n",
       "      <th>3</th>\n",
       "      <td>Bay City Rollers</td>\n",
       "      <td>Another Rainy Day In New York City</td>\n",
       "      <td>Strangers In The Wind</td>\n",
       "      <td>https://i.scdn.co/image/0d026ea3a1e7c889d20fa9...</td>\n",
       "    </tr>\n",
       "    <tr>\n",
       "      <th>4</th>\n",
       "      <td>Bay City Rollers</td>\n",
       "      <td>Strangers In the Wind</td>\n",
       "      <td>Anthology ('71-'81)</td>\n",
       "      <td>https://i.scdn.co/image/9f6c3841e8490d3a338f7f...</td>\n",
       "    </tr>\n",
       "    <tr>\n",
       "      <th>5</th>\n",
       "      <td>Bay City Rollers</td>\n",
       "      <td>Strangers In the Wind</td>\n",
       "      <td>Strangers In The Wind</td>\n",
       "      <td>https://i.scdn.co/image/0d026ea3a1e7c889d20fa9...</td>\n",
       "    </tr>\n",
       "    <tr>\n",
       "      <th>6</th>\n",
       "      <td>Bay City Rollers</td>\n",
       "      <td>When I Say I Love You (The Pie)</td>\n",
       "      <td>Strangers In The Wind</td>\n",
       "      <td>https://i.scdn.co/image/0d026ea3a1e7c889d20fa9...</td>\n",
       "    </tr>\n",
       "    <tr>\n",
       "      <th>7</th>\n",
       "      <td>Bay City Rollers</td>\n",
       "      <td>Strangers In the Wind</td>\n",
       "      <td>Shang-A-Lang</td>\n",
       "      <td>https://i.scdn.co/image/4b748061c40ae159827d76...</td>\n",
       "    </tr>\n",
       "    <tr>\n",
       "      <th>8</th>\n",
       "      <td>Jazz Instrumental Music Academy</td>\n",
       "      <td>Strangers in the Wind</td>\n",
       "      <td>Luxury Jazz Lounge: Elegant Nightlife, Restaur...</td>\n",
       "      <td>https://i.scdn.co/image/1b1a84982567809d42789b...</td>\n",
       "    </tr>\n",
       "  </tbody>\n",
       "</table>\n",
       "</div>"
      ],
      "text/plain": [
       "                         artist_name                                name  \\\n",
       "num                                                                        \n",
       "1                      Frank Sinatra                         Summer Wind   \n",
       "2                           Cut Copy               Strangers In The Wind   \n",
       "3                   Bay City Rollers  Another Rainy Day In New York City   \n",
       "4                   Bay City Rollers               Strangers In the Wind   \n",
       "5                   Bay City Rollers               Strangers In the Wind   \n",
       "6                   Bay City Rollers     When I Say I Love You (The Pie)   \n",
       "7                   Bay City Rollers               Strangers In the Wind   \n",
       "8    Jazz Instrumental Music Academy               Strangers in the Wind   \n",
       "\n",
       "                                            album_name  \\\n",
       "num                                                      \n",
       "1            Strangers In The Night (Expanded Edition)   \n",
       "2                                     In Ghost Colours   \n",
       "3                                Strangers In The Wind   \n",
       "4                                  Anthology ('71-'81)   \n",
       "5                                Strangers In The Wind   \n",
       "6                                Strangers In The Wind   \n",
       "7                                         Shang-A-Lang   \n",
       "8    Luxury Jazz Lounge: Elegant Nightlife, Restaur...   \n",
       "\n",
       "                                       album_image_url  \n",
       "num                                                     \n",
       "1    https://i.scdn.co/image/a08cbc9ad17132caec9d41...  \n",
       "2    https://i.scdn.co/image/0d1639fa2b10454ce03d28...  \n",
       "3    https://i.scdn.co/image/0d026ea3a1e7c889d20fa9...  \n",
       "4    https://i.scdn.co/image/9f6c3841e8490d3a338f7f...  \n",
       "5    https://i.scdn.co/image/0d026ea3a1e7c889d20fa9...  \n",
       "6    https://i.scdn.co/image/0d026ea3a1e7c889d20fa9...  \n",
       "7    https://i.scdn.co/image/4b748061c40ae159827d76...  \n",
       "8    https://i.scdn.co/image/1b1a84982567809d42789b...  "
      ]
     },
     "execution_count": 11,
     "metadata": {},
     "output_type": "execute_result"
    }
   ],
   "source": [
    "# search_term = input('What song do you want to listen to? ')\n",
    "search_term = 'strangers in the wind'\n",
    "tracks = spotify.get_tracks(search_term)\n",
    "\n",
    "# 1. Uncomment below to see the returned data:\n",
    "#    pprint(tracks)\n",
    "\n",
    "# 2. pandas doesn't gracefully handle heirarchal data (uncomment below to see what I mean)\n",
    "# df = pd.DataFrame(tracks)\n",
    "# df.head(3)\n",
    "\n",
    "# 3. Format data and display in Pandas:\n",
    "tracks = spotify.flatten_for_pandas(tracks)\n",
    "df = pd.DataFrame(tracks).set_index('num')\n",
    "df[['artist_name', 'name', 'album_name', 'album_image_url']].head(8)"
   ]
  },
  {
   "cell_type": "markdown",
   "metadata": {},
   "source": [
    "## 2. Ask the user which track they'd like to analyze"
   ]
  },
  {
   "cell_type": "code",
   "execution_count": 12,
   "metadata": {},
   "outputs": [
    {
     "name": "stdout",
     "output_type": "stream",
     "text": [
      "{'acousticness': 0.0733,\n",
      " 'analysis_url': 'https://api.spotify.com/v1/audio-analysis/1ZLsvetXVtZNflSrn2Jknd',\n",
      " 'danceability': 0.565,\n",
      " 'duration_ms': 283773,\n",
      " 'energy': 0.779,\n",
      " 'id': '1ZLsvetXVtZNflSrn2Jknd',\n",
      " 'instrumentalness': 2.92e-05,\n",
      " 'key': 4,\n",
      " 'liveness': 0.263,\n",
      " 'loudness': -3.891,\n",
      " 'mode': 0,\n",
      " 'speechiness': 0.0412,\n",
      " 'tempo': 119.949,\n",
      " 'time_signature': 4,\n",
      " 'track_href': 'https://api.spotify.com/v1/tracks/1ZLsvetXVtZNflSrn2Jknd',\n",
      " 'type': 'audio_features',\n",
      " 'uri': 'spotify:track:1ZLsvetXVtZNflSrn2Jknd',\n",
      " 'valence': 0.541}\n"
     ]
    }
   ],
   "source": [
    "#track_num = input('What track would you like to listen to (1-10)? ')\n",
    "#track_num = int(track_num) - 1\n",
    "track_num = 1\n",
    "\n",
    "analysis = spotify.get_audio_features_by_track(tracks[track_num]['id'])\n",
    "pprint(analysis, depth=2)"
   ]
  },
  {
   "cell_type": "markdown",
   "metadata": {},
   "source": [
    "## 3. Get similar tracks"
   ]
  },
  {
   "cell_type": "code",
   "execution_count": 13,
   "metadata": {
    "scrolled": true
   },
   "outputs": [
    {
     "data": {
      "text/html": [
       "<div>\n",
       "<style scoped>\n",
       "    .dataframe tbody tr th:only-of-type {\n",
       "        vertical-align: middle;\n",
       "    }\n",
       "\n",
       "    .dataframe tbody tr th {\n",
       "        vertical-align: top;\n",
       "    }\n",
       "\n",
       "    .dataframe thead th {\n",
       "        text-align: right;\n",
       "    }\n",
       "</style>\n",
       "<table border=\"1\" class=\"dataframe\">\n",
       "  <thead>\n",
       "    <tr style=\"text-align: right;\">\n",
       "      <th></th>\n",
       "      <th>artist_name</th>\n",
       "      <th>name</th>\n",
       "      <th>album_name</th>\n",
       "      <th>album_image_url</th>\n",
       "    </tr>\n",
       "    <tr>\n",
       "      <th>num</th>\n",
       "      <th></th>\n",
       "      <th></th>\n",
       "      <th></th>\n",
       "      <th></th>\n",
       "    </tr>\n",
       "  </thead>\n",
       "  <tbody>\n",
       "    <tr>\n",
       "      <th>1</th>\n",
       "      <td>Cut Copy</td>\n",
       "      <td>Let Me Show You Love</td>\n",
       "      <td>Free Your Mind (Deluxe)</td>\n",
       "      <td>https://i.scdn.co/image/e29657dca9844c09df386b...</td>\n",
       "    </tr>\n",
       "    <tr>\n",
       "      <th>2</th>\n",
       "      <td>Fischerspooner</td>\n",
       "      <td>Emerge</td>\n",
       "      <td>#1</td>\n",
       "      <td>https://i.scdn.co/image/2c8b1577fbaf5206d3dd2a...</td>\n",
       "    </tr>\n",
       "    <tr>\n",
       "      <th>3</th>\n",
       "      <td>Small Black</td>\n",
       "      <td>Personal Best - Keith Sweaty Remix</td>\n",
       "      <td>Best Blues Remix EP</td>\n",
       "      <td>https://i.scdn.co/image/c33c366cd3edfe8eaa9c99...</td>\n",
       "    </tr>\n",
       "    <tr>\n",
       "      <th>4</th>\n",
       "      <td>Miike Snow</td>\n",
       "      <td>My Trigger</td>\n",
       "      <td>iii</td>\n",
       "      <td>https://i.scdn.co/image/a4d3853cc7a965fca33ef3...</td>\n",
       "    </tr>\n",
       "    <tr>\n",
       "      <th>5</th>\n",
       "      <td>Miami Horror</td>\n",
       "      <td>I Look to You (feat. Kimbra)</td>\n",
       "      <td>Illumination</td>\n",
       "      <td>https://i.scdn.co/image/5da7231d4fe5f812cef41b...</td>\n",
       "    </tr>\n",
       "    <tr>\n",
       "      <th>6</th>\n",
       "      <td>Van She</td>\n",
       "      <td>Sex City</td>\n",
       "      <td>Van She</td>\n",
       "      <td>https://i.scdn.co/image/1bd87da6772689d901556a...</td>\n",
       "    </tr>\n",
       "    <tr>\n",
       "      <th>7</th>\n",
       "      <td>Passion Pit</td>\n",
       "      <td>Take a Walk</td>\n",
       "      <td>Gossamer</td>\n",
       "      <td>https://i.scdn.co/image/b1be1a7651f80b2c096d18...</td>\n",
       "    </tr>\n",
       "    <tr>\n",
       "      <th>8</th>\n",
       "      <td>Cut Copy</td>\n",
       "      <td>A Dream</td>\n",
       "      <td>Bright Like Neon Love</td>\n",
       "      <td>https://i.scdn.co/image/82dcff2f244a8e4738e95e...</td>\n",
       "    </tr>\n",
       "  </tbody>\n",
       "</table>\n",
       "</div>"
      ],
      "text/plain": [
       "        artist_name                                name  \\\n",
       "num                                                       \n",
       "1          Cut Copy                Let Me Show You Love   \n",
       "2    Fischerspooner                              Emerge   \n",
       "3       Small Black  Personal Best - Keith Sweaty Remix   \n",
       "4        Miike Snow                          My Trigger   \n",
       "5      Miami Horror        I Look to You (feat. Kimbra)   \n",
       "6           Van She                            Sex City   \n",
       "7       Passion Pit                         Take a Walk   \n",
       "8          Cut Copy                             A Dream   \n",
       "\n",
       "                  album_name  \\\n",
       "num                            \n",
       "1    Free Your Mind (Deluxe)   \n",
       "2                         #1   \n",
       "3        Best Blues Remix EP   \n",
       "4                        iii   \n",
       "5               Illumination   \n",
       "6                    Van She   \n",
       "7                   Gossamer   \n",
       "8      Bright Like Neon Love   \n",
       "\n",
       "                                       album_image_url  \n",
       "num                                                     \n",
       "1    https://i.scdn.co/image/e29657dca9844c09df386b...  \n",
       "2    https://i.scdn.co/image/2c8b1577fbaf5206d3dd2a...  \n",
       "3    https://i.scdn.co/image/c33c366cd3edfe8eaa9c99...  \n",
       "4    https://i.scdn.co/image/a4d3853cc7a965fca33ef3...  \n",
       "5    https://i.scdn.co/image/5da7231d4fe5f812cef41b...  \n",
       "6    https://i.scdn.co/image/1bd87da6772689d901556a...  \n",
       "7    https://i.scdn.co/image/b1be1a7651f80b2c096d18...  \n",
       "8    https://i.scdn.co/image/82dcff2f244a8e4738e95e...  "
      ]
     },
     "execution_count": 13,
     "metadata": {},
     "output_type": "execute_result"
    }
   ],
   "source": [
    "# play the whole album:\n",
    "track_id = tracks[track_num]['id']\n",
    "artist_id = tracks[track_num]['artist_id']\n",
    "tracks = spotify.get_similar_tracks(track_ids=track_id, artist_ids=artist_id, simplify=True)\n",
    "# pprint(tracks, depth=3)\n",
    "\n",
    "tracks = spotify.flatten_for_pandas(tracks)\n",
    "df = pd.DataFrame(tracks).set_index('num')\n",
    "df[['artist_name', 'name', 'album_name', 'album_image_url']].head(8)"
   ]
  },
  {
   "cell_type": "markdown",
   "metadata": {},
   "source": [
    "## 4. Display all album covers"
   ]
  },
  {
   "cell_type": "code",
   "execution_count": 14,
   "metadata": {},
   "outputs": [
    {
     "data": {
      "text/html": [
       "<img src=\"https://i.scdn.co/image/e29657dca9844c09df386b25a3aa4e66f5b057ad\"/><img src=\"https://i.scdn.co/image/2c8b1577fbaf5206d3dd2a1746a53a99cf409cc6\"/><img src=\"https://i.scdn.co/image/c33c366cd3edfe8eaa9c996408fe1dbc1f79affd\"/><img src=\"https://i.scdn.co/image/a4d3853cc7a965fca33ef33b03474e3c78d296cc\"/><img src=\"https://i.scdn.co/image/5da7231d4fe5f812cef41b1ef4712844a1b658ae\"/><img src=\"https://i.scdn.co/image/1bd87da6772689d901556aaa00e9a2bdb5c8b69e\"/><img src=\"https://i.scdn.co/image/b1be1a7651f80b2c096d18445f2297fe2913e6da\"/><img src=\"https://i.scdn.co/image/82dcff2f244a8e4738e95e9dff9ff208f1aa1ef4\"/>"
      ],
      "text/plain": [
       "<IPython.core.display.HTML object>"
      ]
     },
     "metadata": {},
     "output_type": "display_data"
    }
   ],
   "source": [
    "# display all of the album covers:\n",
    "html = ''\n",
    "for track in tracks[0:8]:\n",
    "    html += spotify.get_image_html(track['album_image_url'])\n",
    "display(HTML(\n",
    "    html\n",
    "))"
   ]
  },
  {
   "cell_type": "code",
   "execution_count": null,
   "metadata": {},
   "outputs": [],
   "source": []
  }
 ],
 "metadata": {
  "kernelspec": {
   "display_name": "Python 3",
   "language": "python",
   "name": "python3"
  },
  "language_info": {
   "codemirror_mode": {
    "name": "ipython",
    "version": 3
   },
   "file_extension": ".py",
   "mimetype": "text/x-python",
   "name": "python",
   "nbconvert_exporter": "python",
   "pygments_lexer": "ipython3",
   "version": "3.7.0"
  }
 },
 "nbformat": 4,
 "nbformat_minor": 2
}
