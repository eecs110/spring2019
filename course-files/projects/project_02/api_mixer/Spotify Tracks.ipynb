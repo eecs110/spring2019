{
 "cells": [
  {
   "cell_type": "markdown",
   "metadata": {},
   "source": [
    "# Spotify: Working with Tracks"
   ]
  },
  {
   "cell_type": "code",
   "execution_count": 1,
   "metadata": {},
   "outputs": [
    {
     "data": {
      "text/html": [
       "\n",
       "            <style>\n",
       "                .rendered_html img { \n",
       "                    display: inline-block; \n",
       "                    vertical-align: baseline;\n",
       "                    max-width: 200px !important;\n",
       "                    margin-right: 20px !important;\n",
       "                }\n",
       "                .rendered_html td, .rendered_html th { text-align: left !important; }\n",
       "            </style>\n",
       "            "
      ],
      "text/plain": [
       "<IPython.core.display.HTML object>"
      ]
     },
     "execution_count": 1,
     "metadata": {},
     "output_type": "execute_result"
    }
   ],
   "source": [
    "# import dependencies:\n",
    "from apis import spotify\n",
    "from pprint import pprint\n",
    "import pandas as pd\n",
    "from IPython.display import HTML\n",
    "\n",
    "from IPython.core.display import HTML\n",
    "\n",
    "# some formatting:\n",
    "HTML(spotify.get_jupyter_styling())"
   ]
  },
  {
   "cell_type": "code",
   "execution_count": 2,
   "metadata": {},
   "outputs": [],
   "source": [
    "# Let's understand our options by using the help function:\n",
    "# help(spotify)"
   ]
  },
  {
   "cell_type": "markdown",
   "metadata": {},
   "source": [
    "## 1. Get tracks by search term"
   ]
  },
  {
   "cell_type": "code",
   "execution_count": 3,
   "metadata": {},
   "outputs": [
    {
     "name": "stdout",
     "output_type": "stream",
     "text": [
      "What song do you want to listen to? enjoy the silence\n"
     ]
    },
    {
     "data": {
      "text/html": [
       "<div>\n",
       "<style scoped>\n",
       "    .dataframe tbody tr th:only-of-type {\n",
       "        vertical-align: middle;\n",
       "    }\n",
       "\n",
       "    .dataframe tbody tr th {\n",
       "        vertical-align: top;\n",
       "    }\n",
       "\n",
       "    .dataframe thead th {\n",
       "        text-align: right;\n",
       "    }\n",
       "</style>\n",
       "<table border=\"1\" class=\"dataframe\">\n",
       "  <thead>\n",
       "    <tr style=\"text-align: right;\">\n",
       "      <th></th>\n",
       "      <th>artist_name</th>\n",
       "      <th>name</th>\n",
       "      <th>album_name</th>\n",
       "      <th>album_image_url</th>\n",
       "    </tr>\n",
       "    <tr>\n",
       "      <th>num</th>\n",
       "      <th></th>\n",
       "      <th></th>\n",
       "      <th></th>\n",
       "      <th></th>\n",
       "    </tr>\n",
       "  </thead>\n",
       "  <tbody>\n",
       "    <tr>\n",
       "      <th>1</th>\n",
       "      <td>Depeche Mode</td>\n",
       "      <td>Enjoy the Silence - Single Mix</td>\n",
       "      <td>Enjoy The Silence (21490)</td>\n",
       "      <td>https://i.scdn.co/image/1d155007f0b77801b7b3a9...</td>\n",
       "    </tr>\n",
       "    <tr>\n",
       "      <th>2</th>\n",
       "      <td>Lacuna Coil</td>\n",
       "      <td>Enjoy the Silence</td>\n",
       "      <td>Karmacode</td>\n",
       "      <td>https://i.scdn.co/image/9b657911fe6ca4b0734f74...</td>\n",
       "    </tr>\n",
       "    <tr>\n",
       "      <th>3</th>\n",
       "      <td>Depeche Mode</td>\n",
       "      <td>Enjoy The Silence - 2006 Remastered Version</td>\n",
       "      <td>Violator (2006 Remastered Edition)</td>\n",
       "      <td>https://i.scdn.co/image/2d6badd108ef4250246c54...</td>\n",
       "    </tr>\n",
       "    <tr>\n",
       "      <th>4</th>\n",
       "      <td>Anberlin</td>\n",
       "      <td>Enjoy The Silence</td>\n",
       "      <td>Lost Songs</td>\n",
       "      <td>https://i.scdn.co/image/b3644e4c84eea184620d6a...</td>\n",
       "    </tr>\n",
       "    <tr>\n",
       "      <th>5</th>\n",
       "      <td>Depeche Mode</td>\n",
       "      <td>Enjoy the Silence (Original) - Remastered Version</td>\n",
       "      <td>The Best Of Depeche Mode Volume 1</td>\n",
       "      <td>https://i.scdn.co/image/de6fe418199bc1b9e33081...</td>\n",
       "    </tr>\n",
       "    <tr>\n",
       "      <th>6</th>\n",
       "      <td>Trevor Something</td>\n",
       "      <td>Enjoy the Silence</td>\n",
       "      <td>Enjoy the Silence</td>\n",
       "      <td>https://i.scdn.co/image/2ac11075083e46a77472df...</td>\n",
       "    </tr>\n",
       "    <tr>\n",
       "      <th>7</th>\n",
       "      <td>Carla Bruni</td>\n",
       "      <td>Enjoy The Silence</td>\n",
       "      <td>French Touch</td>\n",
       "      <td>https://i.scdn.co/image/af8450bac4a822aaf0b6df...</td>\n",
       "    </tr>\n",
       "    <tr>\n",
       "      <th>8</th>\n",
       "      <td>Breaking Benjamin</td>\n",
       "      <td>Enjoy The Silence</td>\n",
       "      <td>Shallow Bay: The Best Of Breaking Benjamin Del...</td>\n",
       "      <td>https://i.scdn.co/image/96a4b2c7b785b82fc251ff...</td>\n",
       "    </tr>\n",
       "  </tbody>\n",
       "</table>\n",
       "</div>"
      ],
      "text/plain": [
       "           artist_name                                               name  \\\n",
       "num                                                                         \n",
       "1         Depeche Mode                     Enjoy the Silence - Single Mix   \n",
       "2          Lacuna Coil                                  Enjoy the Silence   \n",
       "3         Depeche Mode        Enjoy The Silence - 2006 Remastered Version   \n",
       "4             Anberlin                                  Enjoy The Silence   \n",
       "5         Depeche Mode  Enjoy the Silence (Original) - Remastered Version   \n",
       "6     Trevor Something                                  Enjoy the Silence   \n",
       "7          Carla Bruni                                  Enjoy The Silence   \n",
       "8    Breaking Benjamin                                  Enjoy The Silence   \n",
       "\n",
       "                                            album_name  \\\n",
       "num                                                      \n",
       "1                            Enjoy The Silence (21490)   \n",
       "2                                            Karmacode   \n",
       "3                   Violator (2006 Remastered Edition)   \n",
       "4                                           Lost Songs   \n",
       "5                    The Best Of Depeche Mode Volume 1   \n",
       "6                                    Enjoy the Silence   \n",
       "7                                         French Touch   \n",
       "8    Shallow Bay: The Best Of Breaking Benjamin Del...   \n",
       "\n",
       "                                       album_image_url  \n",
       "num                                                     \n",
       "1    https://i.scdn.co/image/1d155007f0b77801b7b3a9...  \n",
       "2    https://i.scdn.co/image/9b657911fe6ca4b0734f74...  \n",
       "3    https://i.scdn.co/image/2d6badd108ef4250246c54...  \n",
       "4    https://i.scdn.co/image/b3644e4c84eea184620d6a...  \n",
       "5    https://i.scdn.co/image/de6fe418199bc1b9e33081...  \n",
       "6    https://i.scdn.co/image/2ac11075083e46a77472df...  \n",
       "7    https://i.scdn.co/image/af8450bac4a822aaf0b6df...  \n",
       "8    https://i.scdn.co/image/96a4b2c7b785b82fc251ff...  "
      ]
     },
     "execution_count": 3,
     "metadata": {},
     "output_type": "execute_result"
    }
   ],
   "source": [
    "search_term = input('What song do you want to listen to? ')\n",
    "#search_term = 'blowin in the wind'\n",
    "tracks = spotify.get_tracks(search_term)\n",
    "\n",
    "# 1. Uncomment below to see the returned data:\n",
    "#    pprint(tracks)\n",
    "\n",
    "# 2. pandas doesn't gracefully handle heirarchal data (uncomment below to see what I mean)\n",
    "# df = pd.DataFrame(tracks)\n",
    "# df.head(3)\n",
    "\n",
    "# 3. Format data and display in Pandas:\n",
    "tracks = spotify.flatten_for_pandas(tracks)\n",
    "df = pd.DataFrame(tracks).set_index('num')\n",
    "df[['artist_name', 'name', 'album_name', 'album_image_url']].head(8)"
   ]
  },
  {
   "cell_type": "markdown",
   "metadata": {},
   "source": [
    "## 2. Ask the user which track they'd like to listen to"
   ]
  },
  {
   "cell_type": "code",
   "execution_count": 4,
   "metadata": {},
   "outputs": [
    {
     "name": "stdout",
     "output_type": "stream",
     "text": [
      "What track would you like to listen to (1-10)? 1\n"
     ]
    },
    {
     "data": {
      "text/html": [
       "\n",
       "        <iframe src=\"https://open.spotify.com/embed?uri=spotify:track:1YwNlWLf8auhazSQUDQLFU&amp;theme=white\" width=\"300\" height=\"80\" frameborder=\"0\" allowtransparency=\"true\" allow=\"encrypted-media\" data-testid=\"audio-player\">\n",
       "        </iframe>\n",
       "        "
      ],
      "text/plain": [
       "<IPython.core.display.HTML object>"
      ]
     },
     "metadata": {},
     "output_type": "display_data"
    }
   ],
   "source": [
    "track_num = input('What track would you like to listen to (1-10)? ')\n",
    "track_num = int(track_num) - 1\n",
    "track_player = spotify.get_track_player_html(tracks[track_num]['id'])\n",
    "# print('This is what the HTML embed code looks like:\\n', track_player)\n",
    "\n",
    "display(HTML(track_player))"
   ]
  },
  {
   "cell_type": "markdown",
   "metadata": {},
   "source": [
    "## 3. Play the whole album"
   ]
  },
  {
   "cell_type": "code",
   "execution_count": 5,
   "metadata": {
    "scrolled": true
   },
   "outputs": [
    {
     "data": {
      "text/html": [
       "\n",
       "        <iframe src=\"https://open.spotify.com/embed/album/13OoJ5Y23cdo8CDAiQwznb\" \n",
       "            width=\"600\" height=\"300\" frameborder=\"0\" allowtransparency=\"true\" \n",
       "            allow=\"encrypted-media\">\n",
       "        </iframe>"
      ],
      "text/plain": [
       "<IPython.core.display.HTML object>"
      ]
     },
     "metadata": {},
     "output_type": "display_data"
    }
   ],
   "source": [
    "# play the whole album:\n",
    "album_player = spotify.get_album_player_html(tracks[track_num]['album_id'], width=600, height=300)\n",
    "# print('This is what the HTML embed code looks like:\\n', album_player)\n",
    "display(HTML(album_player))"
   ]
  },
  {
   "cell_type": "markdown",
   "metadata": {},
   "source": [
    "## 4. Display all album covers"
   ]
  },
  {
   "cell_type": "code",
   "execution_count": 6,
   "metadata": {},
   "outputs": [
    {
     "data": {
      "text/html": [
       "<img src=\"https://i.scdn.co/image/1d155007f0b77801b7b3a929e9e8161ec01ba6b0\"/><img src=\"https://i.scdn.co/image/9b657911fe6ca4b0734f747d5a29d43f3a42e5bb\"/><img src=\"https://i.scdn.co/image/2d6badd108ef4250246c54d301023d5d7616885a\"/><img src=\"https://i.scdn.co/image/b3644e4c84eea184620d6acfa82168dd7ad416e1\"/><img src=\"https://i.scdn.co/image/de6fe418199bc1b9e33081a9286f4a07f59f3328\"/><img src=\"https://i.scdn.co/image/2ac11075083e46a77472df612a78ed23c85336a5\"/><img src=\"https://i.scdn.co/image/af8450bac4a822aaf0b6df77c4004b06e5f89391\"/><img src=\"https://i.scdn.co/image/96a4b2c7b785b82fc251ffb621e4184b27b5286c\"/>"
      ],
      "text/plain": [
       "<IPython.core.display.HTML object>"
      ]
     },
     "metadata": {},
     "output_type": "display_data"
    }
   ],
   "source": [
    "# display all of the album covers:\n",
    "html = ''\n",
    "for track in tracks[0:8]:\n",
    "    html += spotify.get_image_html(track['album_image_url'])\n",
    "display(HTML(\n",
    "    html\n",
    "))"
   ]
  },
  {
   "cell_type": "code",
   "execution_count": null,
   "metadata": {},
   "outputs": [],
   "source": []
  }
 ],
 "metadata": {
  "kernelspec": {
   "display_name": "Python 3",
   "language": "python",
   "name": "python3"
  },
  "language_info": {
   "codemirror_mode": {
    "name": "ipython",
    "version": 3
   },
   "file_extension": ".py",
   "mimetype": "text/x-python",
   "name": "python",
   "nbconvert_exporter": "python",
   "pygments_lexer": "ipython3",
   "version": "3.7.0"
  }
 },
 "nbformat": 4,
 "nbformat_minor": 2
}
