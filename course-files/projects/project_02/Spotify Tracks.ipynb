{
 "cells": [
  {
   "cell_type": "markdown",
   "metadata": {},
   "source": [
    "# Spotify: Working with Tracks"
   ]
  },
  {
   "cell_type": "code",
   "execution_count": 1,
   "metadata": {},
   "outputs": [
    {
     "data": {
      "text/html": [
       "\n",
       "        <style>\n",
       "            .rendered_html img { \n",
       "                display: inline-block; \n",
       "                vertical-align: baseline;\n",
       "                max-width: 200px !important;\n",
       "                margin-right: 20px !important;\n",
       "            }\n",
       "            .rendered_html td, .rendered_html th { text-align: left !important; }\n",
       "        </style>\n",
       "        "
      ],
      "text/plain": [
       "<IPython.core.display.HTML object>"
      ]
     },
     "execution_count": 1,
     "metadata": {},
     "output_type": "execute_result"
    }
   ],
   "source": [
    "# import dependencies:\n",
    "from apis import spotify\n",
    "from pprint import pprint\n",
    "import pandas as pd\n",
    "from IPython.display import HTML\n",
    "\n",
    "from IPython.core.display import HTML\n",
    "\n",
    "# some formatting:\n",
    "HTML(spotify.get_jupyter_styling())"
   ]
  },
  {
   "cell_type": "code",
   "execution_count": 2,
   "metadata": {},
   "outputs": [],
   "source": [
    "# Let's understand our options by using the help function:\n",
    "# help(spotify)"
   ]
  },
  {
   "cell_type": "markdown",
   "metadata": {},
   "source": [
    "## 1. Get tracks by search term"
   ]
  },
  {
   "cell_type": "code",
   "execution_count": 4,
   "metadata": {},
   "outputs": [
    {
     "name": "stdout",
     "output_type": "stream",
     "text": [
      "What song do you want to listen to? missed connection\n"
     ]
    },
    {
     "data": {
      "text/html": [
       "<div>\n",
       "<style scoped>\n",
       "    .dataframe tbody tr th:only-of-type {\n",
       "        vertical-align: middle;\n",
       "    }\n",
       "\n",
       "    .dataframe tbody tr th {\n",
       "        vertical-align: top;\n",
       "    }\n",
       "\n",
       "    .dataframe thead th {\n",
       "        text-align: right;\n",
       "    }\n",
       "</style>\n",
       "<table border=\"1\" class=\"dataframe\">\n",
       "  <thead>\n",
       "    <tr style=\"text-align: right;\">\n",
       "      <th></th>\n",
       "      <th>artist_name</th>\n",
       "      <th>name</th>\n",
       "      <th>album_name</th>\n",
       "      <th>album_image_url</th>\n",
       "    </tr>\n",
       "    <tr>\n",
       "      <th>num</th>\n",
       "      <th></th>\n",
       "      <th></th>\n",
       "      <th></th>\n",
       "      <th></th>\n",
       "    </tr>\n",
       "  </thead>\n",
       "  <tbody>\n",
       "    <tr>\n",
       "      <th>1</th>\n",
       "      <td>The Head and the Heart</td>\n",
       "      <td>Missed Connection</td>\n",
       "      <td>Living Mirage</td>\n",
       "      <td>https://i.scdn.co/image/649d02360e1e67e26e41e8...</td>\n",
       "    </tr>\n",
       "    <tr>\n",
       "      <th>2</th>\n",
       "      <td>Bernard Hermands</td>\n",
       "      <td>Missed Connection with You</td>\n",
       "      <td>Occasionally</td>\n",
       "      <td>https://i.scdn.co/image/e58ef7cd76b87a9edc45a3...</td>\n",
       "    </tr>\n",
       "    <tr>\n",
       "      <th>3</th>\n",
       "      <td>Mikey Iceberg</td>\n",
       "      <td>Missed Connection</td>\n",
       "      <td>Luv Ain't Love</td>\n",
       "      <td>https://i.scdn.co/image/22b51f8d66baf6cf467203...</td>\n",
       "    </tr>\n",
       "    <tr>\n",
       "      <th>4</th>\n",
       "      <td>Annie Oakley</td>\n",
       "      <td>Missed Connection</td>\n",
       "      <td>Words We Mean</td>\n",
       "      <td>https://i.scdn.co/image/785a1c3ad33b0f133e066c...</td>\n",
       "    </tr>\n",
       "    <tr>\n",
       "      <th>5</th>\n",
       "      <td>Lilly Wolf</td>\n",
       "      <td>Missed Connection</td>\n",
       "      <td>Missed Connection</td>\n",
       "      <td>https://i.scdn.co/image/9d7c12319993e9af96af0e...</td>\n",
       "    </tr>\n",
       "    <tr>\n",
       "      <th>6</th>\n",
       "      <td>Furzluft</td>\n",
       "      <td>Missed Connection's</td>\n",
       "      <td>No Name Basis</td>\n",
       "      <td>https://i.scdn.co/image/abe2a54cc68a3e29a608ae...</td>\n",
       "    </tr>\n",
       "    <tr>\n",
       "      <th>7</th>\n",
       "      <td>The Wild Lips</td>\n",
       "      <td>Missed Connection</td>\n",
       "      <td>Shameless</td>\n",
       "      <td>https://i.scdn.co/image/1e73ca57febe9afb017d4b...</td>\n",
       "    </tr>\n",
       "    <tr>\n",
       "      <th>8</th>\n",
       "      <td>NandoInTheBando</td>\n",
       "      <td>Missed Connection</td>\n",
       "      <td>Spilt Milk</td>\n",
       "      <td>https://i.scdn.co/image/e3a2b7684b7ac11e00cd08...</td>\n",
       "    </tr>\n",
       "  </tbody>\n",
       "</table>\n",
       "</div>"
      ],
      "text/plain": [
       "                artist_name                        name         album_name  \\\n",
       "num                                                                          \n",
       "1    The Head and the Heart           Missed Connection      Living Mirage   \n",
       "2          Bernard Hermands  Missed Connection with You       Occasionally   \n",
       "3             Mikey Iceberg           Missed Connection     Luv Ain't Love   \n",
       "4              Annie Oakley           Missed Connection      Words We Mean   \n",
       "5                Lilly Wolf           Missed Connection  Missed Connection   \n",
       "6                  Furzluft         Missed Connection's      No Name Basis   \n",
       "7             The Wild Lips           Missed Connection          Shameless   \n",
       "8           NandoInTheBando           Missed Connection         Spilt Milk   \n",
       "\n",
       "                                       album_image_url  \n",
       "num                                                     \n",
       "1    https://i.scdn.co/image/649d02360e1e67e26e41e8...  \n",
       "2    https://i.scdn.co/image/e58ef7cd76b87a9edc45a3...  \n",
       "3    https://i.scdn.co/image/22b51f8d66baf6cf467203...  \n",
       "4    https://i.scdn.co/image/785a1c3ad33b0f133e066c...  \n",
       "5    https://i.scdn.co/image/9d7c12319993e9af96af0e...  \n",
       "6    https://i.scdn.co/image/abe2a54cc68a3e29a608ae...  \n",
       "7    https://i.scdn.co/image/1e73ca57febe9afb017d4b...  \n",
       "8    https://i.scdn.co/image/e3a2b7684b7ac11e00cd08...  "
      ]
     },
     "execution_count": 4,
     "metadata": {},
     "output_type": "execute_result"
    }
   ],
   "source": [
    "# search_term = input('What song do you want to listen to? ')\n",
    "search_term = 'blowin in the wind'\n",
    "tracks = spotify.get_tracks(search_term)\n",
    "\n",
    "# 1. Uncomment below to see the returned data:\n",
    "#    pprint(tracks)\n",
    "\n",
    "# 2. pandas doesn't gracefully handle heirarchal data (uncomment below to see what I mean)\n",
    "# df = pd.DataFrame(tracks)\n",
    "# df.head(3)\n",
    "\n",
    "# 3. Format data and display in Pandas:\n",
    "tracks = spotify.flatten_for_pandas(tracks)\n",
    "df = pd.DataFrame(tracks).set_index('num')\n",
    "df[['artist_name', 'name', 'album_name', 'album_image_url']].head(8)"
   ]
  },
  {
   "cell_type": "markdown",
   "metadata": {},
   "source": [
    "## Listen to a track"
   ]
  },
  {
   "cell_type": "code",
   "execution_count": 10,
   "metadata": {},
   "outputs": [
    {
     "name": "stdout",
     "output_type": "stream",
     "text": [
      "This is what the HTML embed code looks like:\n",
      " \n",
      "    <iframe src=\"https://open.spotify.com/embed?uri=spotify:track:3aLiiKTvDFfOsGwPxVADzj&amp;theme=white\" width=\"300\" height=\"80\" frameborder=\"0\" allowtransparency=\"true\" allow=\"encrypted-media\" data-testid=\"audio-player\">\n",
      "    </iframe>\n",
      "    \n"
     ]
    },
    {
     "data": {
      "text/html": [
       "\n",
       "    <iframe src=\"https://open.spotify.com/embed?uri=spotify:track:3aLiiKTvDFfOsGwPxVADzj&amp;theme=white\" width=\"300\" height=\"80\" frameborder=\"0\" allowtransparency=\"true\" allow=\"encrypted-media\" data-testid=\"audio-player\">\n",
       "    </iframe>\n",
       "    "
      ],
      "text/plain": [
       "<IPython.core.display.HTML object>"
      ]
     },
     "metadata": {},
     "output_type": "display_data"
    }
   ],
   "source": [
    "# track_num = input('What track would you like to listen to (1-10)? ')\n",
    "track_num = int(track_num) - 1\n",
    "track_player = spotify.get_track_player_html(tracks[track_num]['id'])\n",
    "# print('This is what the HTML embed code looks like:\\n', track_player)\n",
    "\n",
    "display(HTML(track_player))"
   ]
  },
  {
   "cell_type": "markdown",
   "metadata": {},
   "source": [
    "## 3. Play the whole album"
   ]
  },
  {
   "cell_type": "code",
   "execution_count": 7,
   "metadata": {
    "scrolled": true
   },
   "outputs": [
    {
     "data": {
      "text/html": [
       "\n",
       "    <iframe src=\"https://open.spotify.com/embed/album/27LNgTSAGxE2fitrsCukmT\" \n",
       "        width=\"600\" height=\"300\" frameborder=\"0\" allowtransparency=\"true\" \n",
       "        allow=\"encrypted-media\">\n",
       "    </iframe>"
      ],
      "text/plain": [
       "<IPython.core.display.HTML object>"
      ]
     },
     "metadata": {},
     "output_type": "display_data"
    }
   ],
   "source": [
    "# play the whole album:\n",
    "album_player = spotify.get_album_player_html(tracks[track_num]['album_id'], width=600, height=300)\n",
    "# print('This is what the HTML embed code looks like:\\n', album_player)\n",
    "display(HTML(album_player))"
   ]
  },
  {
   "cell_type": "markdown",
   "metadata": {},
   "source": [
    "## 4. Display all album covers"
   ]
  },
  {
   "cell_type": "code",
   "execution_count": 9,
   "metadata": {},
   "outputs": [
    {
     "name": "stdout",
     "output_type": "stream",
     "text": [
      "<img src=\"https://i.scdn.co/image/649d02360e1e67e26e41e82760603543b9197a00\"/><img src=\"https://i.scdn.co/image/e58ef7cd76b87a9edc45a365cfc0d0e9f962b3b2\"/><img src=\"https://i.scdn.co/image/22b51f8d66baf6cf467203907269ac46f339e041\"/><img src=\"https://i.scdn.co/image/785a1c3ad33b0f133e066c78906f9ed5d1efe2a0\"/><img src=\"https://i.scdn.co/image/9d7c12319993e9af96af0e6d69fcfb0afa40460d\"/><img src=\"https://i.scdn.co/image/abe2a54cc68a3e29a608ae04b73911841efcd451\"/><img src=\"https://i.scdn.co/image/1e73ca57febe9afb017d4bbc09c7e2ae009e3955\"/><img src=\"https://i.scdn.co/image/e3a2b7684b7ac11e00cd08282426664f4d0200e7\"/>\n"
     ]
    },
    {
     "data": {
      "text/html": [
       "<img src=\"https://i.scdn.co/image/649d02360e1e67e26e41e82760603543b9197a00\"/><img src=\"https://i.scdn.co/image/e58ef7cd76b87a9edc45a365cfc0d0e9f962b3b2\"/><img src=\"https://i.scdn.co/image/22b51f8d66baf6cf467203907269ac46f339e041\"/><img src=\"https://i.scdn.co/image/785a1c3ad33b0f133e066c78906f9ed5d1efe2a0\"/><img src=\"https://i.scdn.co/image/9d7c12319993e9af96af0e6d69fcfb0afa40460d\"/><img src=\"https://i.scdn.co/image/abe2a54cc68a3e29a608ae04b73911841efcd451\"/><img src=\"https://i.scdn.co/image/1e73ca57febe9afb017d4bbc09c7e2ae009e3955\"/><img src=\"https://i.scdn.co/image/e3a2b7684b7ac11e00cd08282426664f4d0200e7\"/>"
      ],
      "text/plain": [
       "<IPython.core.display.HTML object>"
      ]
     },
     "metadata": {},
     "output_type": "display_data"
    }
   ],
   "source": [
    "# display all of the album covers:\n",
    "html = ''\n",
    "for track in tracks[0:8]:\n",
    "    html += spotify.get_image_html(track['album_image_url'])\n",
    "print(html)\n",
    "display(HTML(\n",
    "    html\n",
    "))"
   ]
  },
  {
   "cell_type": "code",
   "execution_count": null,
   "metadata": {},
   "outputs": [],
   "source": []
  }
 ],
 "metadata": {
  "kernelspec": {
   "display_name": "Python 3",
   "language": "python",
   "name": "python3"
  },
  "language_info": {
   "codemirror_mode": {
    "name": "ipython",
    "version": 3
   },
   "file_extension": ".py",
   "mimetype": "text/x-python",
   "name": "python",
   "nbconvert_exporter": "python",
   "pygments_lexer": "ipython3",
   "version": "3.7.0"
  }
 },
 "nbformat": 4,
 "nbformat_minor": 2
}
