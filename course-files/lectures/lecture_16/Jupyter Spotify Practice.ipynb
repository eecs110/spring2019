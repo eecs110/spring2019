{
 "cells": [
  {
   "cell_type": "markdown",
   "metadata": {},
   "source": [
    "# Exercise 3: In Class Activity\n",
    "1. Figure out how to search for a track and...\n",
    "  * Display matching tracks\n",
    "  * Embed a track player\n",
    "2. Figure out how to search for an artist and...\n",
    "  * Display matching artists\n",
    "  * Display an image of each matched artist\n",
    "3. Figure out how to search for a playlist and...\n",
    "  * Display matching playlists\n",
    "  * Embed a playlist player"
   ]
  },
  {
   "cell_type": "code",
   "execution_count": null,
   "metadata": {},
   "outputs": [],
   "source": [
    "from apis import spotify\n",
    "from apis import utilities\n",
    "from pprint import pprint\n",
    "from IPython.core.display import HTML\n",
    "\n",
    "# some formatting:\n",
    "HTML(utilities.get_jupyter_styling())"
   ]
  },
  {
   "cell_type": "code",
   "execution_count": null,
   "metadata": {},
   "outputs": [],
   "source": [
    "help(spotify)"
   ]
  },
  {
   "cell_type": "code",
   "execution_count": null,
   "metadata": {},
   "outputs": [],
   "source": [
    "help(utilities)"
   ]
  },
  {
   "cell_type": "code",
   "execution_count": null,
   "metadata": {},
   "outputs": [],
   "source": [
    "# Just a little syntax help...\n",
    "# track_id = '18GiV1BaXzPVYpp9rmOg0E'\n",
    "# track_player = spotify.get_track_player_html(track_id)\n",
    "# display(HTML(track_player))"
   ]
  }
 ],
 "metadata": {
  "kernelspec": {
   "display_name": "Python 3",
   "language": "python",
   "name": "python3"
  },
  "language_info": {
   "codemirror_mode": {
    "name": "ipython",
    "version": 3
   },
   "file_extension": ".py",
   "mimetype": "text/x-python",
   "name": "python",
   "nbconvert_exporter": "python",
   "pygments_lexer": "ipython3",
   "version": "3.7.0"
  }
 },
 "nbformat": 4,
 "nbformat_minor": 2
}
