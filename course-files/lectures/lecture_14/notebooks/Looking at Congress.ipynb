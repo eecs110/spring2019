{
 "cells": [
  {
   "cell_type": "code",
   "execution_count": 2,
   "metadata": {},
   "outputs": [],
   "source": [
    "import pandas as pd\n",
    "%matplotlib inline\n",
    "\n",
    "# Load legislators-current.csv file from disk \n",
    "# and convert the birthday column to a date column:\n",
    "legislators = pd.read_csv(\"../data/legislators-current.csv\", encoding=\"latin\")\n",
    "legislators['birthday'] = pd.to_datetime(legislators['birthday'], format='%m/%d/%Y')"
   ]
  },
  {
   "cell_type": "markdown",
   "metadata": {},
   "source": [
    "## Please complete the following tasks\n",
    "\n",
    "1. In a new cell, output a data frame that only includes members of the legislature from a state of your choosing (e.g. \"Only show me senators and representatives from Illinois\").\n",
    "2. In a new cell, output the 5 **oldest senators** (type == 'sen')\n",
    "3. In a new cell, output the 5 **youngest** people in the **house of representatives** (type == 'rep')\n",
    "4. In a new cell, output a dataframe showing the number of men and women in congress by state.\n",
    "5. In a new cell, output the representative counts for each state in descending order.\n",
    "6. In a new cell, make a **bar chart** of the states with the most representatives and the number of representatives they have."
   ]
  },
  {
   "cell_type": "markdown",
   "metadata": {},
   "source": [
    "### preview table"
   ]
  },
  {
   "cell_type": "code",
   "execution_count": 3,
   "metadata": {},
   "outputs": [
    {
     "data": {
      "text/html": [
       "<div>\n",
       "<style scoped>\n",
       "    .dataframe tbody tr th:only-of-type {\n",
       "        vertical-align: middle;\n",
       "    }\n",
       "\n",
       "    .dataframe tbody tr th {\n",
       "        vertical-align: top;\n",
       "    }\n",
       "\n",
       "    .dataframe thead th {\n",
       "        text-align: right;\n",
       "    }\n",
       "</style>\n",
       "<table border=\"1\" class=\"dataframe\">\n",
       "  <thead>\n",
       "    <tr style=\"text-align: right;\">\n",
       "      <th></th>\n",
       "      <th>last_name</th>\n",
       "      <th>first_name</th>\n",
       "      <th>middle_name</th>\n",
       "      <th>suffix</th>\n",
       "      <th>nickname</th>\n",
       "      <th>full_name</th>\n",
       "      <th>birthday</th>\n",
       "      <th>gender</th>\n",
       "      <th>type</th>\n",
       "      <th>state</th>\n",
       "      <th>...</th>\n",
       "      <th>opensecrets_id</th>\n",
       "      <th>lis_id</th>\n",
       "      <th>fec_ids</th>\n",
       "      <th>cspan_id</th>\n",
       "      <th>govtrack_id</th>\n",
       "      <th>votesmart_id</th>\n",
       "      <th>ballotpedia_id</th>\n",
       "      <th>washington_post_id</th>\n",
       "      <th>icpsr_id</th>\n",
       "      <th>wikipedia_id</th>\n",
       "    </tr>\n",
       "  </thead>\n",
       "  <tbody>\n",
       "    <tr>\n",
       "      <th>0</th>\n",
       "      <td>Brown</td>\n",
       "      <td>Sherrod</td>\n",
       "      <td>NaN</td>\n",
       "      <td>NaN</td>\n",
       "      <td>NaN</td>\n",
       "      <td>Sherrod Brown</td>\n",
       "      <td>1952-11-09</td>\n",
       "      <td>M</td>\n",
       "      <td>sen</td>\n",
       "      <td>OH</td>\n",
       "      <td>...</td>\n",
       "      <td>N00003535</td>\n",
       "      <td>S307</td>\n",
       "      <td>H2OH13033,S6OH00163</td>\n",
       "      <td>5051.0</td>\n",
       "      <td>400050</td>\n",
       "      <td>27018.0</td>\n",
       "      <td>Sherrod Brown</td>\n",
       "      <td>NaN</td>\n",
       "      <td>29389.0</td>\n",
       "      <td>Sherrod Brown</td>\n",
       "    </tr>\n",
       "    <tr>\n",
       "      <th>1</th>\n",
       "      <td>Cantwell</td>\n",
       "      <td>Maria</td>\n",
       "      <td>NaN</td>\n",
       "      <td>NaN</td>\n",
       "      <td>NaN</td>\n",
       "      <td>Maria Cantwell</td>\n",
       "      <td>1958-10-13</td>\n",
       "      <td>F</td>\n",
       "      <td>sen</td>\n",
       "      <td>WA</td>\n",
       "      <td>...</td>\n",
       "      <td>N00007836</td>\n",
       "      <td>S275</td>\n",
       "      <td>S8WA00194,H2WA01054</td>\n",
       "      <td>26137.0</td>\n",
       "      <td>300018</td>\n",
       "      <td>27122.0</td>\n",
       "      <td>Maria Cantwell</td>\n",
       "      <td>NaN</td>\n",
       "      <td>39310.0</td>\n",
       "      <td>Maria Cantwell</td>\n",
       "    </tr>\n",
       "    <tr>\n",
       "      <th>2</th>\n",
       "      <td>Cardin</td>\n",
       "      <td>Benjamin</td>\n",
       "      <td>L.</td>\n",
       "      <td>NaN</td>\n",
       "      <td>NaN</td>\n",
       "      <td>Benjamin L. Cardin</td>\n",
       "      <td>1943-10-05</td>\n",
       "      <td>M</td>\n",
       "      <td>sen</td>\n",
       "      <td>MD</td>\n",
       "      <td>...</td>\n",
       "      <td>N00001955</td>\n",
       "      <td>S308</td>\n",
       "      <td>H6MD03177,S6MD03177</td>\n",
       "      <td>4004.0</td>\n",
       "      <td>400064</td>\n",
       "      <td>26888.0</td>\n",
       "      <td>Ben Cardin</td>\n",
       "      <td>NaN</td>\n",
       "      <td>15408.0</td>\n",
       "      <td>Ben Cardin</td>\n",
       "    </tr>\n",
       "  </tbody>\n",
       "</table>\n",
       "<p>3 rows × 34 columns</p>\n",
       "</div>"
      ],
      "text/plain": [
       "  last_name first_name middle_name suffix nickname           full_name  \\\n",
       "0     Brown    Sherrod         NaN    NaN      NaN       Sherrod Brown   \n",
       "1  Cantwell      Maria         NaN    NaN      NaN      Maria Cantwell   \n",
       "2    Cardin   Benjamin          L.    NaN      NaN  Benjamin L. Cardin   \n",
       "\n",
       "    birthday gender type state  ...  opensecrets_id  lis_id  \\\n",
       "0 1952-11-09      M  sen    OH  ...       N00003535    S307   \n",
       "1 1958-10-13      F  sen    WA  ...       N00007836    S275   \n",
       "2 1943-10-05      M  sen    MD  ...       N00001955    S308   \n",
       "\n",
       "               fec_ids cspan_id govtrack_id votesmart_id  ballotpedia_id  \\\n",
       "0  H2OH13033,S6OH00163   5051.0      400050      27018.0   Sherrod Brown   \n",
       "1  S8WA00194,H2WA01054  26137.0      300018      27122.0  Maria Cantwell   \n",
       "2  H6MD03177,S6MD03177   4004.0      400064      26888.0      Ben Cardin   \n",
       "\n",
       "  washington_post_id icpsr_id    wikipedia_id  \n",
       "0                NaN  29389.0   Sherrod Brown  \n",
       "1                NaN  39310.0  Maria Cantwell  \n",
       "2                NaN  15408.0      Ben Cardin  \n",
       "\n",
       "[3 rows x 34 columns]"
      ]
     },
     "execution_count": 3,
     "metadata": {},
     "output_type": "execute_result"
    }
   ],
   "source": [
    "legislators.head(3)"
   ]
  },
  {
   "cell_type": "markdown",
   "metadata": {},
   "source": [
    "### Exercise 1\n",
    "Output a data frame that only includes members of the legislature from a state of your choosing (e.g. \"Only show me senators and representatives from Illinois\").\n",
    "\n",
    "Hint: create a rule, and then filter the table using the rule. See the Evanston Inspection example for details."
   ]
  },
  {
   "cell_type": "code",
   "execution_count": 4,
   "metadata": {},
   "outputs": [],
   "source": [
    "# Your code here..."
   ]
  },
  {
   "cell_type": "markdown",
   "metadata": {},
   "source": [
    "### Exercise 2\n",
    "Output the 5 oldest senators. Hint: You will need to create a senate filter and then sort by birthday descending."
   ]
  },
  {
   "cell_type": "code",
   "execution_count": 6,
   "metadata": {},
   "outputs": [],
   "source": [
    "# Your code here..."
   ]
  },
  {
   "cell_type": "markdown",
   "metadata": {},
   "source": [
    "### Exercise 3\n",
    "Output the 5 youngest people in the house of representatives. Output the 5 oldest senators. Hint: You will need to create a house of representatives filter and then sort by birthday ascending."
   ]
  },
  {
   "cell_type": "code",
   "execution_count": 7,
   "metadata": {},
   "outputs": [],
   "source": [
    "# Your code here..."
   ]
  },
  {
   "cell_type": "markdown",
   "metadata": {},
   "source": [
    "### Exercise 4\n",
    "Number of men and women in congress by state. Hint: you will use the groupby and size methods to complete this task."
   ]
  },
  {
   "cell_type": "code",
   "execution_count": 10,
   "metadata": {},
   "outputs": [],
   "source": [
    "# Your code here..."
   ]
  },
  {
   "cell_type": "markdown",
   "metadata": {},
   "source": [
    "### Exercise 5\n",
    "Output the states with the most representatives in the house. Hint: you will use the groupby and size methods to complete this task."
   ]
  },
  {
   "cell_type": "code",
   "execution_count": 11,
   "metadata": {},
   "outputs": [],
   "source": [
    "# your code here..."
   ]
  },
  {
   "cell_type": "markdown",
   "metadata": {},
   "source": [
    "###  Exercise 6\n",
    "Create a chart of the number of people in the house of representatives by state"
   ]
  },
  {
   "cell_type": "code",
   "execution_count": 12,
   "metadata": {
    "scrolled": true
   },
   "outputs": [],
   "source": [
    "# your code here..."
   ]
  }
 ],
 "metadata": {
  "kernelspec": {
   "display_name": "Python 3",
   "language": "python",
   "name": "python3"
  },
  "language_info": {
   "codemirror_mode": {
    "name": "ipython",
    "version": 3
   },
   "file_extension": ".py",
   "mimetype": "text/x-python",
   "name": "python",
   "nbconvert_exporter": "python",
   "pygments_lexer": "ipython3",
   "version": "3.7.0"
  }
 },
 "nbformat": 4,
 "nbformat_minor": 2
}
