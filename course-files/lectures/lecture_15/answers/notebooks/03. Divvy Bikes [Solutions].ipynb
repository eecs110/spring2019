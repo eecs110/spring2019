{
 "cells": [
  {
   "cell_type": "markdown",
   "metadata": {},
   "source": [
    "## Please complete the following tasks\n",
    "\n",
    "1. In a new cell, output a data frame that only includes members of the legislature from a state of your choosing (e.g. \"Only show me senators and representatives from Illinois\").\n",
    "2. In a new cell, output the 5 **oldest senators** (type == 'sen')\n",
    "3. In a new cell, output the 5 **youngest** people in the **house of representatives** (type == 'rep')\n",
    "4. In a new cell, output a dataframe showing the number of men and women in congress by state.\n",
    "5. In a new cell, output the representative counts for each state in descending order.\n",
    "6. In a new cell, make a **bar chart** of the states with the most representatives and the number of representatives they have."
   ]
  },
  {
   "cell_type": "code",
   "execution_count": null,
   "metadata": {},
   "outputs": [],
   "source": [
    "from urllib.request import urlopen\n",
    "import pprint\n",
    "import json\n",
    "import pandas as pd"
   ]
  },
  {
   "cell_type": "markdown",
   "metadata": {},
   "source": [
    "## Let's Analyze the Bike Data"
   ]
  },
  {
   "cell_type": "code",
   "execution_count": null,
   "metadata": {},
   "outputs": [],
   "source": [
    "response = urlopen('https://feeds.divvybikes.com/stations/stations.json')\n",
    "results = response.read().decode('utf-8', 'ignore')\n",
    "data = json.loads(results)\n",
    "df = pd.DataFrame(data['stationBeanList']).set_index('id')\n",
    "df.head(3)"
   ]
  },
  {
   "cell_type": "markdown",
   "metadata": {},
   "source": [
    "### Filtering, sorting, and subsetting the Station Data\n",
    "Let's only look at a few columns and see if we can understand the purpose of this dataset:"
   ]
  },
  {
   "cell_type": "code",
   "execution_count": null,
   "metadata": {},
   "outputs": [],
   "source": [
    "# let's look at just a few columns:\n",
    "subset = df[['stationName', 'city', 'availableBikes', 'availableDocks', 'totalDocks', 'latitude', 'longitude']]\n",
    "subset.head(10)"
   ]
  },
  {
   "cell_type": "code",
   "execution_count": null,
   "metadata": {},
   "outputs": [],
   "source": [
    "# sort by totalDocs:\n",
    "subset.sort_values('totalDocks', ascending=False)"
   ]
  },
  {
   "cell_type": "code",
   "execution_count": null,
   "metadata": {},
   "outputs": [],
   "source": [
    "df[['availableBikes', 'totalDocks', 'city']].groupby('city').sum()"
   ]
  },
  {
   "cell_type": "code",
   "execution_count": null,
   "metadata": {},
   "outputs": [],
   "source": [
    "# filter by city: \n",
    "filter = subset['city'] == 'Evanston'\n",
    "subset[filter]"
   ]
  },
  {
   "cell_type": "markdown",
   "metadata": {},
   "source": [
    "## Let's Make a Map!"
   ]
  },
  {
   "cell_type": "code",
   "execution_count": null,
   "metadata": {},
   "outputs": [],
   "source": [
    "import folium\n",
    "\n",
    "# create map:\n",
    "chicago_map = folium.Map(\n",
    "    location=[41.867226, -87.615355],  #lat, lng\n",
    "    zoom_start=13,\n",
    "    tiles=\"Stamen watercolor\"   # Switch to \"Stamen watercolor\"\n",
    ")\n",
    "\n",
    "# add marker at Shedd Aquarium:\n",
    "marker = folium.CircleMarker(\n",
    "    location=[41.867226, -87.615355],  #lat, lng\n",
    "    color='red', \n",
    "    radius=250,\n",
    "    fill_color='red',\n",
    "    fill_opacity=0.9\n",
    ")\n",
    "marker.add_to(chicago_map)\n",
    "\n",
    "# show map:\n",
    "chicago_map"
   ]
  },
  {
   "cell_type": "code",
   "execution_count": null,
   "metadata": {},
   "outputs": [],
   "source": [
    "import folium\n",
    "chicago_station_map = folium.Map(\n",
    "    location=[41.867226, -87.615355],\n",
    "    zoom_start=11,\n",
    "    tiles=\"Stamen toner\"   # Switch to \"Stamen watercolor\"\n",
    ")\n",
    "\n",
    "for station in data['stationBeanList']:\n",
    "    name = station['stationName']\n",
    "    lat = station['latitude']\n",
    "    lng = station['longitude']\n",
    "    available_bikes = station['availableBikes']\n",
    "\n",
    "    marker = folium.CircleMarker(\n",
    "        location=[lat, lng],\n",
    "        color='teal', \n",
    "        radius=available_bikes * 8,\n",
    "        fill_color='teal',\n",
    "        fill_opacity=0.6)\n",
    "    marker.add_to(chicago_station_map)\n",
    "    \n",
    "\n",
    "chicago_station_map"
   ]
  },
  {
   "cell_type": "code",
   "execution_count": null,
   "metadata": {},
   "outputs": [],
   "source": []
  }
 ],
 "metadata": {
  "kernelspec": {
   "display_name": "Python 3",
   "language": "python",
   "name": "python3"
  },
  "language_info": {
   "codemirror_mode": {
    "name": "ipython",
    "version": 3
   },
   "file_extension": ".py",
   "mimetype": "text/x-python",
   "name": "python",
   "nbconvert_exporter": "python",
   "pygments_lexer": "ipython3",
   "version": "3.7.0"
  }
 },
 "nbformat": 4,
 "nbformat_minor": 2
}
