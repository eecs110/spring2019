{
 "cells": [
  {
   "cell_type": "code",
   "execution_count": null,
   "metadata": {},
   "outputs": [],
   "source": [
    "import pprint\n",
    "import pandas as pd\n",
    "from IPython.display import HTML"
   ]
  },
  {
   "cell_type": "markdown",
   "metadata": {},
   "source": [
    "## Some Helper Functions to Interact With Spotify"
   ]
  },
  {
   "cell_type": "code",
   "execution_count": null,
   "metadata": {},
   "outputs": [],
   "source": [
    "# this module is located in the notebooks folder:\n",
    "from apis import spotify"
   ]
  },
  {
   "cell_type": "markdown",
   "metadata": {},
   "source": [
    "## Program to search for and display tracks from Spotify"
   ]
  },
  {
   "cell_type": "code",
   "execution_count": null,
   "metadata": {},
   "outputs": [],
   "source": [
    "search_term = input('What song do you want to hear? ')\n",
    "tracks = spotify.get_tracks(search_term)\n",
    "# pprint.pprint(tracks)\n",
    "\n",
    "# simplify data and load into a Pandas DataFrame:\n",
    "tracks_simplified = []\n",
    "count=1\n",
    "for track in tracks:\n",
    "    tracks_simplified.append(\n",
    "        dict(\n",
    "            selection=count,\n",
    "            track_id=track['id'],\n",
    "            name=track['name'], \n",
    "            artist_name=track['artist']['name'],\n",
    "            album_name=track['album']['name'],\n",
    "            album_image_url=track['album']['image_url']\n",
    "        )\n",
    "    )\n",
    "    count += 1\n",
    "    \n",
    "dataframe = pd.DataFrame(tracks_simplified)\n",
    "dataframe = dataframe[['selection','artist_name', 'name']].set_index('selection')\n",
    "dataframe.head(5)"
   ]
  },
  {
   "cell_type": "code",
   "execution_count": null,
   "metadata": {},
   "outputs": [],
   "source": [
    "# display detailed information:\n",
    "selection = int(input('Which of the selections would you like to listen to? '))\n",
    "track = tracks_simplified[selection - 1]\n",
    "display(\n",
    "    HTML(\n",
    "        '<h2>' + track['artist_name'] + '</h2><br>' +\n",
    "        spotify.make_player(track['track_id']) +\n",
    "        spotify.make_image_html(track['album_image_url'])\n",
    "    )\n",
    ")"
   ]
  },
  {
   "cell_type": "markdown",
   "metadata": {},
   "source": [
    "## Program to search for and display artist information from Spotify"
   ]
  },
  {
   "cell_type": "code",
   "execution_count": null,
   "metadata": {},
   "outputs": [],
   "source": [
    "# display artist image:\n",
    "artist_name = tracks[selection-1]['artist']['name']\n",
    "data = spotify.get_artists(artist_name)\n",
    "# pprint.pprint(data)\n",
    "for artist in data:\n",
    "    if artist.get('image_url'):\n",
    "        display(HTML(spotify.make_image_html(artist['image_url'])))\n",
    "    break"
   ]
  }
 ],
 "metadata": {
  "kernelspec": {
   "display_name": "Python 3",
   "language": "python",
   "name": "python3"
  },
  "language_info": {
   "codemirror_mode": {
    "name": "ipython",
    "version": 3
   },
   "file_extension": ".py",
   "mimetype": "text/x-python",
   "name": "python",
   "nbconvert_exporter": "python",
   "pygments_lexer": "ipython3",
   "version": "3.7.0"
  }
 },
 "nbformat": 4,
 "nbformat_minor": 2
}
