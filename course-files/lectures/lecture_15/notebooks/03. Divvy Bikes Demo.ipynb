{
 "cells": [
  {
   "cell_type": "markdown",
   "metadata": {},
   "source": [
    "## Please complete the following tasks\n",
    "\n",
    "1. In a new cell, modify the dataframe so that it only shows the following columns: stationName, city, availableBikes, availableDocks, totalDocks, latitude, longitude.\n",
    "2. In a new cell, modify the dataframe so that it only shows stations in Evanston, ordered so that the station with the most availableBikes is at the top.\n",
    "3. Write a program that prompts the user for a station name and then displays any station that has a partial match.\n",
    "4. Display all of the stations on a map."
   ]
  },
  {
   "cell_type": "code",
   "execution_count": 1,
   "metadata": {},
   "outputs": [],
   "source": [
    "# import libraries:\n",
    "from urllib.request import urlopen\n",
    "import pprint\n",
    "import json\n",
    "import pandas as pd"
   ]
  },
  {
   "cell_type": "markdown",
   "metadata": {},
   "source": [
    "## Let's Analyze the Bike Data"
   ]
  },
  {
   "cell_type": "code",
   "execution_count": 4,
   "metadata": {},
   "outputs": [
    {
     "data": {
      "text/html": [
       "<div>\n",
       "<style scoped>\n",
       "    .dataframe tbody tr th:only-of-type {\n",
       "        vertical-align: middle;\n",
       "    }\n",
       "\n",
       "    .dataframe tbody tr th {\n",
       "        vertical-align: top;\n",
       "    }\n",
       "\n",
       "    .dataframe thead th {\n",
       "        text-align: right;\n",
       "    }\n",
       "</style>\n",
       "<table border=\"1\" class=\"dataframe\">\n",
       "  <thead>\n",
       "    <tr style=\"text-align: right;\">\n",
       "      <th></th>\n",
       "      <th>altitude</th>\n",
       "      <th>availableBikes</th>\n",
       "      <th>availableDocks</th>\n",
       "      <th>city</th>\n",
       "      <th>is_renting</th>\n",
       "      <th>kioskType</th>\n",
       "      <th>landMark</th>\n",
       "      <th>lastCommunicationTime</th>\n",
       "      <th>latitude</th>\n",
       "      <th>location</th>\n",
       "      <th>longitude</th>\n",
       "      <th>postalCode</th>\n",
       "      <th>stAddress1</th>\n",
       "      <th>stAddress2</th>\n",
       "      <th>stationName</th>\n",
       "      <th>status</th>\n",
       "      <th>statusKey</th>\n",
       "      <th>statusValue</th>\n",
       "      <th>testStation</th>\n",
       "      <th>totalDocks</th>\n",
       "    </tr>\n",
       "    <tr>\n",
       "      <th>id</th>\n",
       "      <th></th>\n",
       "      <th></th>\n",
       "      <th></th>\n",
       "      <th></th>\n",
       "      <th></th>\n",
       "      <th></th>\n",
       "      <th></th>\n",
       "      <th></th>\n",
       "      <th></th>\n",
       "      <th></th>\n",
       "      <th></th>\n",
       "      <th></th>\n",
       "      <th></th>\n",
       "      <th></th>\n",
       "      <th></th>\n",
       "      <th></th>\n",
       "      <th></th>\n",
       "      <th></th>\n",
       "      <th></th>\n",
       "      <th></th>\n",
       "    </tr>\n",
       "  </thead>\n",
       "  <tbody>\n",
       "    <tr>\n",
       "      <th>2</th>\n",
       "      <td></td>\n",
       "      <td>25</td>\n",
       "      <td>14</td>\n",
       "      <td>Chicago</td>\n",
       "      <td>True</td>\n",
       "      <td>K3_FULL</td>\n",
       "      <td>15541</td>\n",
       "      <td>2019-06-04 13:40:12</td>\n",
       "      <td>41.876470</td>\n",
       "      <td></td>\n",
       "      <td>-87.620340</td>\n",
       "      <td>60605</td>\n",
       "      <td>Buckingham Fountain</td>\n",
       "      <td></td>\n",
       "      <td>Buckingham Fountain</td>\n",
       "      <td>IN_SERVICE</td>\n",
       "      <td>1</td>\n",
       "      <td>In Service</td>\n",
       "      <td>False</td>\n",
       "      <td>39</td>\n",
       "    </tr>\n",
       "    <tr>\n",
       "      <th>3</th>\n",
       "      <td></td>\n",
       "      <td>34</td>\n",
       "      <td>20</td>\n",
       "      <td>Chicago</td>\n",
       "      <td>True</td>\n",
       "      <td>K3_FULL</td>\n",
       "      <td>15544</td>\n",
       "      <td>2019-06-04 13:41:01</td>\n",
       "      <td>41.867226</td>\n",
       "      <td></td>\n",
       "      <td>-87.615355</td>\n",
       "      <td></td>\n",
       "      <td>Shedd Aquarium</td>\n",
       "      <td></td>\n",
       "      <td>Shedd Aquarium</td>\n",
       "      <td>IN_SERVICE</td>\n",
       "      <td>1</td>\n",
       "      <td>In Service</td>\n",
       "      <td>False</td>\n",
       "      <td>55</td>\n",
       "    </tr>\n",
       "    <tr>\n",
       "      <th>4</th>\n",
       "      <td></td>\n",
       "      <td>2</td>\n",
       "      <td>21</td>\n",
       "      <td>Chicago</td>\n",
       "      <td>True</td>\n",
       "      <td>K3_FULL</td>\n",
       "      <td>15545</td>\n",
       "      <td>2019-06-04 13:37:26</td>\n",
       "      <td>41.856268</td>\n",
       "      <td></td>\n",
       "      <td>-87.613348</td>\n",
       "      <td></td>\n",
       "      <td>Burnham Harbor</td>\n",
       "      <td></td>\n",
       "      <td>Burnham Harbor</td>\n",
       "      <td>IN_SERVICE</td>\n",
       "      <td>1</td>\n",
       "      <td>In Service</td>\n",
       "      <td>False</td>\n",
       "      <td>23</td>\n",
       "    </tr>\n",
       "  </tbody>\n",
       "</table>\n",
       "</div>"
      ],
      "text/plain": [
       "   altitude  availableBikes  availableDocks     city  is_renting kioskType  \\\n",
       "id                                                                           \n",
       "2                        25              14  Chicago        True   K3_FULL   \n",
       "3                        34              20  Chicago        True   K3_FULL   \n",
       "4                         2              21  Chicago        True   K3_FULL   \n",
       "\n",
       "   landMark lastCommunicationTime   latitude location  longitude postalCode  \\\n",
       "id                                                                            \n",
       "2     15541   2019-06-04 13:40:12  41.876470          -87.620340      60605   \n",
       "3     15544   2019-06-04 13:41:01  41.867226          -87.615355              \n",
       "4     15545   2019-06-04 13:37:26  41.856268          -87.613348              \n",
       "\n",
       "             stAddress1 stAddress2          stationName      status  \\\n",
       "id                                                                    \n",
       "2   Buckingham Fountain             Buckingham Fountain  IN_SERVICE   \n",
       "3        Shedd Aquarium                  Shedd Aquarium  IN_SERVICE   \n",
       "4        Burnham Harbor                  Burnham Harbor  IN_SERVICE   \n",
       "\n",
       "    statusKey statusValue  testStation  totalDocks  \n",
       "id                                                  \n",
       "2           1  In Service        False          39  \n",
       "3           1  In Service        False          55  \n",
       "4           1  In Service        False          23  "
      ]
     },
     "execution_count": 4,
     "metadata": {},
     "output_type": "execute_result"
    }
   ],
   "source": [
    "response = urlopen('https://feeds.divvybikes.com/stations/stations.json')\n",
    "results = response.read().decode('utf-8', 'ignore')\n",
    "data = json.loads(results)\n",
    "# pprint.pprint(data, depth=3)\n",
    "stationList = data['stationBeanList']\n",
    "\n",
    "df = pd.DataFrame(stationList).set_index('id')\n",
    "df.head(3)"
   ]
  },
  {
   "cell_type": "markdown",
   "metadata": {},
   "source": [
    "### 1. Selecting Columns\n",
    "Modify the dataframe so that it only shows the following columns: stationName, city, availableBikes, availableDocks, totalDocks, latitude, longitude."
   ]
  },
  {
   "cell_type": "code",
   "execution_count": null,
   "metadata": {},
   "outputs": [],
   "source": [
    "# 1. Display only the following columns: \n",
    "#    stationName, city, availableBikes, availableDocks, totalDocks, latitude, longitude"
   ]
  },
  {
   "cell_type": "markdown",
   "metadata": {},
   "source": [
    "### 2. Filtering and Sorting\n",
    "Modify the dataframe so that it only shows stations in Evanston, ordered so that the station with the most availableBikes is at the top."
   ]
  },
  {
   "cell_type": "code",
   "execution_count": null,
   "metadata": {},
   "outputs": [],
   "source": [
    "# Only show evanston stationsavailableBikes ordered descending by availableBikes"
   ]
  },
  {
   "cell_type": "markdown",
   "metadata": {},
   "source": [
    "### 3. Filtering Data with User Input\n",
    "Write a program that prompts the user for a station name and then displays any station that has a partial match."
   ]
  },
  {
   "cell_type": "code",
   "execution_count": null,
   "metadata": {},
   "outputs": [],
   "source": [
    "# 1. Write a program that prompts the user for a \n",
    "# station name and then displays any station that has a partial match."
   ]
  },
  {
   "cell_type": "markdown",
   "metadata": {},
   "source": [
    "### 4. Display All of the Stations on the Map"
   ]
  },
  {
   "cell_type": "code",
   "execution_count": null,
   "metadata": {},
   "outputs": [],
   "source": [
    "# Map all of the bike stations by iterating through the data['stationBeanList'] list:\n",
    "# pprint.pprint(data['stationBeanList'])\n",
    "\n",
    "import folium\n",
    "\n",
    "# create map:\n",
    "chicago_map = folium.Map(\n",
    "    location=[41.867226, -87.615355],  #lat, lng\n",
    "    zoom_start=13,\n",
    "    tiles=\"Stamen toner\"   #\"Stamen watercolor\"\n",
    ")\n",
    "\n",
    "# add marker at Shedd Aquarium:\n",
    "marker = folium.Marker(\n",
    "    location=[41.867226, -87.615355]\n",
    ")\n",
    "marker.add_to(chicago_map)\n",
    "\n",
    "# show map:\n",
    "chicago_map"
   ]
  }
 ],
 "metadata": {
  "kernelspec": {
   "display_name": "Python 3",
   "language": "python",
   "name": "python3"
  },
  "language_info": {
   "codemirror_mode": {
    "name": "ipython",
    "version": 3
   },
   "file_extension": ".py",
   "mimetype": "text/x-python",
   "name": "python",
   "nbconvert_exporter": "python",
   "pygments_lexer": "ipython3",
   "version": "3.7.0"
  }
 },
 "nbformat": 4,
 "nbformat_minor": 2
}
