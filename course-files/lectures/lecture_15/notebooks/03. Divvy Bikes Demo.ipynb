{
 "cells": [
  {
   "cell_type": "markdown",
   "metadata": {},
   "source": [
    "## Please complete the following tasks\n",
    "\n",
    "1. In a new cell, modify the dataframe so that it only shows the following columns: stationName, city, availableBikes, availableDocks, totalDocks, latitude, longitude.\n",
    "2. In a new cell, modify the dataframe so that it only shows stations in Evanston, ordered so that the station with the most availableBikes is at the top.\n",
    "3. Write a program that prompts the user for a station name and then displays any station that has a partial match.\n",
    "4. Display all of the stations on a map."
   ]
  },
  {
   "cell_type": "code",
   "execution_count": null,
   "metadata": {},
   "outputs": [],
   "source": [
    "# import libraries:\n",
    "from urllib.request import urlopen\n",
    "import pprint\n",
    "import json\n",
    "import pandas as pd"
   ]
  },
  {
   "cell_type": "markdown",
   "metadata": {},
   "source": [
    "## Let's Analyze the Bike Data"
   ]
  },
  {
   "cell_type": "code",
   "execution_count": null,
   "metadata": {},
   "outputs": [],
   "source": [
    "response = urlopen('https://feeds.divvybikes.com/stations/stations.json')\n",
    "results = response.read().decode('utf-8', 'ignore')\n",
    "data = json.loads(results)\n",
    "df = pd.DataFrame(data['stationBeanList']).set_index('id')\n",
    "df.head(3)"
   ]
  },
  {
   "cell_type": "markdown",
   "metadata": {},
   "source": [
    "### 1. Selecting Columns\n",
    "Modify the dataframe so that it only shows the following columns: stationName, city, availableBikes, availableDocks, totalDocks, latitude, longitude."
   ]
  },
  {
   "cell_type": "code",
   "execution_count": null,
   "metadata": {},
   "outputs": [],
   "source": [
    "# 1. Display only the following columns: \n",
    "#    stationName, city, availableBikes, availableDocks, totalDocks, latitude, longitude"
   ]
  },
  {
   "cell_type": "markdown",
   "metadata": {},
   "source": [
    "### 2. Filtering and Sorting\n",
    "Modify the dataframe so that it only shows stations in Evanston, ordered so that the station with the most availableBikes is at the top."
   ]
  },
  {
   "cell_type": "code",
   "execution_count": null,
   "metadata": {},
   "outputs": [],
   "source": [
    "# Only show evanston stationsavailableBikes ordered descending by availableBikes"
   ]
  },
  {
   "cell_type": "markdown",
   "metadata": {},
   "source": [
    "### 3. Filtering Data with User Input\n",
    "Write a program that prompts the user for a station name and then displays any station that has a partial match."
   ]
  },
  {
   "cell_type": "code",
   "execution_count": null,
   "metadata": {},
   "outputs": [],
   "source": [
    "# 1. Write a program that prompts the user for a \n",
    "# station name and then displays any station that has a partial match."
   ]
  },
  {
   "cell_type": "markdown",
   "metadata": {},
   "source": [
    "### 4. Display All of the Stations on the Map"
   ]
  },
  {
   "cell_type": "code",
   "execution_count": null,
   "metadata": {},
   "outputs": [],
   "source": [
    "# Map all of the bike stations by iterating through the data['stationBeanList'] list:\n",
    "# pprint.pprint(data['stationBeanList'])\n",
    "\n",
    "import folium\n",
    "\n",
    "# create map:\n",
    "chicago_map = folium.Map(\n",
    "    location=[41.867226, -87.615355],  #lat, lng\n",
    "    zoom_start=13,\n",
    "    tiles=\"Stamen toner\"   #\"Stamen watercolor\"\n",
    ")\n",
    "\n",
    "# add marker at Shedd Aquarium:\n",
    "marker = folium.Marker(\n",
    "    location=[41.867226, -87.615355]\n",
    ")\n",
    "marker.add_to(chicago_map)\n",
    "\n",
    "# show map:\n",
    "chicago_map"
   ]
  }
 ],
 "metadata": {
  "kernelspec": {
   "display_name": "Python 3",
   "language": "python",
   "name": "python3"
  },
  "language_info": {
   "codemirror_mode": {
    "name": "ipython",
    "version": 3
   },
   "file_extension": ".py",
   "mimetype": "text/x-python",
   "name": "python",
   "nbconvert_exporter": "python",
   "pygments_lexer": "ipython3",
   "version": "3.7.0"
  }
 },
 "nbformat": 4,
 "nbformat_minor": 2
}
