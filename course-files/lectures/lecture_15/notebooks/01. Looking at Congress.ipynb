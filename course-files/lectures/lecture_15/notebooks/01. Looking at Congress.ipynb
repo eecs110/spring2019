{
 "cells": [
  {
   "cell_type": "markdown",
   "metadata": {},
   "source": [
    "## Please complete the following tasks\n",
    "\n",
    "1. In a new cell, output a data frame that only includes members of the legislature from a state of your choosing (e.g. \"Only show me senators and representatives from Illinois\").\n",
    "2. In a new cell, output the 5 **oldest senators** (type == 'sen')\n",
    "3. In a new cell, output the 5 **youngest** people in the **house of representatives** (type == 'rep')\n",
    "4. In a new cell, output a dataframe showing the number of men and women in congress by state.\n",
    "5. In a new cell, output the representative counts for each state in descending order.\n",
    "6. In a new cell, make a **bar chart** of the states with the most representatives and the number of representatives they have."
   ]
  },
  {
   "cell_type": "code",
   "execution_count": null,
   "metadata": {},
   "outputs": [],
   "source": [
    "import pandas as pd\n",
    "%matplotlib inline\n",
    "\n",
    "# Load legislators-current.csv file from disk \n",
    "# and convert the birthday column to a date column:\n",
    "legislators = pd.read_csv(\"../data/legislators-current.csv\", encoding=\"latin\")\n",
    "legislators['birthday'] = pd.to_datetime(legislators['birthday'], format='%m/%d/%Y')"
   ]
  },
  {
   "cell_type": "markdown",
   "metadata": {},
   "source": [
    "### preview table"
   ]
  },
  {
   "cell_type": "code",
   "execution_count": null,
   "metadata": {},
   "outputs": [],
   "source": [
    "legislators.head(3)"
   ]
  },
  {
   "cell_type": "markdown",
   "metadata": {},
   "source": [
    "### Exercise 1\n",
    "Output a data frame that only includes members of the legislature from a state of your choosing (e.g. \"Only show me senators and representatives from Illinois\").\n",
    "\n",
    "Hint: create a rule, and then filter the table using the rule. See the Evanston Inspection example for details."
   ]
  },
  {
   "cell_type": "code",
   "execution_count": null,
   "metadata": {},
   "outputs": [],
   "source": [
    "# Your code here..."
   ]
  },
  {
   "cell_type": "markdown",
   "metadata": {},
   "source": [
    "### Exercise 2\n",
    "Output the 5 oldest senators. Hint: You will need to create a senate filter and then sort by birthday descending."
   ]
  },
  {
   "cell_type": "code",
   "execution_count": null,
   "metadata": {},
   "outputs": [],
   "source": [
    "# Your code here..."
   ]
  },
  {
   "cell_type": "markdown",
   "metadata": {},
   "source": [
    "### Exercise 3\n",
    "Output the 5 youngest people in the house of representatives. Output the 5 oldest senators. Hint: You will need to create a house of representatives filter and then sort by birthday ascending."
   ]
  },
  {
   "cell_type": "code",
   "execution_count": null,
   "metadata": {},
   "outputs": [],
   "source": [
    "# Your code here..."
   ]
  },
  {
   "cell_type": "markdown",
   "metadata": {},
   "source": [
    "### Exercise 4\n",
    "Number of men and women in congress by state. Hint: you will use the groupby and size methods to complete this task."
   ]
  },
  {
   "cell_type": "code",
   "execution_count": null,
   "metadata": {},
   "outputs": [],
   "source": [
    "# Your code here..."
   ]
  },
  {
   "cell_type": "markdown",
   "metadata": {},
   "source": [
    "### Exercise 5\n",
    "Output the states with the most representatives in the house. Hint: you will use the groupby and size methods to complete this task."
   ]
  },
  {
   "cell_type": "code",
   "execution_count": null,
   "metadata": {},
   "outputs": [],
   "source": [
    "# your code here..."
   ]
  },
  {
   "cell_type": "markdown",
   "metadata": {},
   "source": [
    "###  Exercise 6\n",
    "Create a chart of the number of people in the house of representatives by state"
   ]
  },
  {
   "cell_type": "code",
   "execution_count": null,
   "metadata": {
    "scrolled": true
   },
   "outputs": [],
   "source": [
    "# your code here..."
   ]
  }
 ],
 "metadata": {
  "kernelspec": {
   "display_name": "Python 3",
   "language": "python",
   "name": "python3"
  },
  "language_info": {
   "codemirror_mode": {
    "name": "ipython",
    "version": 3
   },
   "file_extension": ".py",
   "mimetype": "text/x-python",
   "name": "python",
   "nbconvert_exporter": "python",
   "pygments_lexer": "ipython3",
   "version": "3.7.0"
  }
 },
 "nbformat": 4,
 "nbformat_minor": 2
}
